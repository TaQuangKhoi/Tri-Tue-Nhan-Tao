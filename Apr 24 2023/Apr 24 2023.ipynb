{
 "cells": [
  {
   "cell_type": "code",
   "execution_count": 5,
   "metadata": {
    "collapsed": true,
    "ExecuteTime": {
     "start_time": "2023-04-24T09:47:20.147594Z",
     "end_time": "2023-04-24T09:47:20.161459Z"
    }
   },
   "outputs": [
    {
     "name": "stdout",
     "output_type": "stream",
     "text": [
      "[[147]\n",
      " [150]\n",
      " [153]\n",
      " [158]\n",
      " [163]\n",
      " [165]\n",
      " [168]\n",
      " [170]\n",
      " [173]\n",
      " [178]\n",
      " [180]\n",
      " [183]]\n"
     ]
    }
   ],
   "source": [
    "import numpy as np\n",
    "\n",
    "features ="
   ]
  },
  {
   "cell_type": "code",
   "execution_count": 1,
   "outputs": [
    {
     "ename": "NameError",
     "evalue": "name 'np' is not defined",
     "output_type": "error",
     "traceback": [
      "\u001B[1;31m---------------------------------------------------------------------------\u001B[0m",
      "\u001B[1;31mNameError\u001B[0m                                 Traceback (most recent call last)",
      "Cell \u001B[1;32mIn[1], line 1\u001B[0m\n\u001B[1;32m----> 1\u001B[0m targets \u001B[38;5;241m=\u001B[39m \u001B[43mnp\u001B[49m\u001B[38;5;241m.\u001B[39marray(\n\u001B[0;32m      2\u001B[0m     [\n\u001B[0;32m      3\u001B[0m         [\n\u001B[0;32m      4\u001B[0m             \u001B[38;5;241m49\u001B[39m,\n\u001B[0;32m      5\u001B[0m             \u001B[38;5;241m50\u001B[39m,\n\u001B[0;32m      6\u001B[0m             \u001B[38;5;241m51\u001B[39m,\n\u001B[0;32m      7\u001B[0m             \u001B[38;5;241m54\u001B[39m,\n\u001B[0;32m      8\u001B[0m             \u001B[38;5;241m58\u001B[39m,\n\u001B[0;32m      9\u001B[0m             \u001B[38;5;241m59\u001B[39m,\n\u001B[0;32m     10\u001B[0m             \u001B[38;5;241m60\u001B[39m,\n\u001B[0;32m     11\u001B[0m             \u001B[38;5;241m62\u001B[39m,\n\u001B[0;32m     12\u001B[0m             \u001B[38;5;241m63\u001B[39m,\n\u001B[0;32m     13\u001B[0m             \u001B[38;5;241m64\u001B[39m,\n\u001B[0;32m     14\u001B[0m             \u001B[38;5;241m66\u001B[39m,\n\u001B[0;32m     15\u001B[0m             \u001B[38;5;241m67\u001B[39m,\n\u001B[0;32m     16\u001B[0m             \u001B[38;5;241m68\u001B[39m\n\u001B[0;32m     17\u001B[0m         ]\n\u001B[0;32m     18\u001B[0m     ]\n\u001B[0;32m     19\u001B[0m )\u001B[38;5;241m.\u001B[39mT\n\u001B[0;32m     20\u001B[0m \u001B[38;5;28mprint\u001B[39m(targets)\n",
      "\u001B[1;31mNameError\u001B[0m: name 'np' is not defined"
     ]
    }
   ],
   "source": [
    "targets = np.array(\n",
    "    [\n",
    "        [\n",
    "            49,\n",
    "            50,\n",
    "            51,\n",
    "            54,\n",
    "            58,\n",
    "            59,\n",
    "            60,\n",
    "            62,\n",
    "            63,\n",
    "            64,\n",
    "            66,\n",
    "            67,\n",
    "            68\n",
    "        ]\n",
    "    ]\n",
    ").T\n",
    "print(targets)"
   ],
   "metadata": {
    "collapsed": false
   }
  }
 ],
 "metadata": {
  "kernelspec": {
   "display_name": "Python 3",
   "language": "python",
   "name": "python3"
  },
  "language_info": {
   "codemirror_mode": {
    "name": "ipython",
    "version": 2
   },
   "file_extension": ".py",
   "mimetype": "text/x-python",
   "name": "python",
   "nbconvert_exporter": "python",
   "pygments_lexer": "ipython2",
   "version": "2.7.6"
  }
 },
 "nbformat": 4,
 "nbformat_minor": 0
}
