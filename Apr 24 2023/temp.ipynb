{
 "cells": [
  {
   "cell_type": "code",
   "execution_count": 1,
   "metadata": {
    "collapsed": true
   },
   "outputs": [
    {
     "ename": "ImportError",
     "evalue": "cannot import name 'np' from 'numpy' (C:\\Users\\taqua\\miniconda3\\lib\\site-packages\\numpy\\__init__.py)",
     "output_type": "error",
     "traceback": [
      "\u001B[1;31m---------------------------------------------------------------------------\u001B[0m",
      "\u001B[1;31mImportError\u001B[0m                               Traceback (most recent call last)",
      "Cell \u001B[1;32mIn[1], line 1\u001B[0m\n\u001B[1;32m----> 1\u001B[0m \u001B[38;5;28;01mfrom\u001B[39;00m \u001B[38;5;21;01mnumpy\u001B[39;00m \u001B[38;5;28;01mimport\u001B[39;00m np\n\u001B[0;32m      2\u001B[0m targets \u001B[38;5;241m=\u001B[39m np\u001B[38;5;241m.\u001B[39marray(\n\u001B[0;32m      3\u001B[0m     [\n\u001B[0;32m      4\u001B[0m         [\n\u001B[1;32m   (...)\u001B[0m\n\u001B[0;32m     19\u001B[0m     ]\n\u001B[0;32m     20\u001B[0m )\u001B[38;5;241m.\u001B[39mT\n\u001B[0;32m     21\u001B[0m \u001B[38;5;28mprint\u001B[39m(targets)\n",
      "\u001B[1;31mImportError\u001B[0m: cannot import name 'np' from 'numpy' (C:\\Users\\taqua\\miniconda3\\lib\\site-packages\\numpy\\__init__.py)"
     ]
    }
   ],
   "source": [
    "from numpy import np\n"
   ]
  }
 ],
 "metadata": {
  "kernelspec": {
   "display_name": "Python 3",
   "language": "python",
   "name": "python3"
  },
  "language_info": {
   "codemirror_mode": {
    "name": "ipython",
    "version": 2
   },
   "file_extension": ".py",
   "mimetype": "text/x-python",
   "name": "python",
   "nbconvert_exporter": "python",
   "pygments_lexer": "ipython2",
   "version": "2.7.6"
  }
 },
 "nbformat": 4,
 "nbformat_minor": 0
}
