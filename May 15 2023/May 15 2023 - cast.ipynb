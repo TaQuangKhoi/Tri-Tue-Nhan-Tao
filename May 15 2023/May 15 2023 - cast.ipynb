{
 "cells": [
  {
   "cell_type": "code",
   "execution_count": 1,
   "metadata": {
    "collapsed": true,
    "ExecuteTime": {
     "end_time": "2023-05-15T01:46:14.004562500Z",
     "start_time": "2023-05-15T01:46:10.338627400Z"
    }
   },
   "outputs": [],
   "source": [
    "import pandas as pd\n",
    "import numpy as np\n",
    "import matplotlib.pyplot as plt\n",
    "from sklearn import linear_model"
   ]
  },
  {
   "cell_type": "code",
   "execution_count": 2,
   "outputs": [],
   "source": [
    "source_file = 'cast.csv'\n",
    "data = pd.read_csv(source_file, low_memory=False)"
   ],
   "metadata": {
    "collapsed": false,
    "ExecuteTime": {
     "end_time": "2023-05-15T01:46:22.647454600Z",
     "start_time": "2023-05-15T01:46:22.333944400Z"
    }
   }
  },
  {
   "cell_type": "code",
   "execution_count": 3,
   "outputs": [
    {
     "data": {
      "text/plain": "   Cst_Cnt          Cruise_ID  Cruise        Cruz_Sta  DbSta_ID  \\\n0        1  1949-03-01-C-31CR  194903  19490305400560   5400560   \n1        2  1949-03-01-C-31CR  194903  19490305200750   5200750   \n2        3  1949-03-01-C-31CR  194903  19490305100850   5100850   \n3        4  1949-03-01-C-31CR  194903  19490305000950   5000950   \n4        5  1949-03-01-C-31CR  194903  19490305001040   5001040   \n\n                          Cast_ID       Sta_ID  Quarter Sta_Code  Distance  \\\n0  19-4903CR-HY-060-0930-05400560  054.0 056.0        1      NST       NaN   \n1  19-4903CR-HY-060-2112-05200750  052.0 075.0        1      NST       NaN   \n2  19-4903CR-HY-061-0354-05100850  051.0 085.0        1      NST       NaN   \n3  19-4903CR-HY-061-1042-05000950  050.0 095.0        1      NST       NaN   \n4  19-4903CR-HY-061-1706-05001040  050.0 104.0        1      NST       NaN   \n\n   ... Wave_Prd  Wind_Dir  Wind_Spd  Barometer  Dry_T Wet_T  Wea  Cloud_Typ  \\\n0  ...      NaN      23.0      18.0        NaN    NaN   NaN  2.0        NaN   \n1  ...      NaN      16.0       5.0        NaN    NaN   NaN  4.0        NaN   \n2  ...      NaN      23.0       5.0        NaN    NaN   NaN  6.0        NaN   \n3  ...      NaN      18.0       8.0        NaN    NaN   NaN  2.0        NaN   \n4  ...      NaN      27.0      13.0        NaN    NaN   NaN  7.0        NaN   \n\n   Cloud_Amt Visibility  \n0        NaN        NaN  \n1        NaN        NaN  \n2        NaN        NaN  \n3        NaN        NaN  \n4        NaN        NaN  \n\n[5 rows x 61 columns]",
      "text/html": "<div>\n<style scoped>\n    .dataframe tbody tr th:only-of-type {\n        vertical-align: middle;\n    }\n\n    .dataframe tbody tr th {\n        vertical-align: top;\n    }\n\n    .dataframe thead th {\n        text-align: right;\n    }\n</style>\n<table border=\"1\" class=\"dataframe\">\n  <thead>\n    <tr style=\"text-align: right;\">\n      <th></th>\n      <th>Cst_Cnt</th>\n      <th>Cruise_ID</th>\n      <th>Cruise</th>\n      <th>Cruz_Sta</th>\n      <th>DbSta_ID</th>\n      <th>Cast_ID</th>\n      <th>Sta_ID</th>\n      <th>Quarter</th>\n      <th>Sta_Code</th>\n      <th>Distance</th>\n      <th>...</th>\n      <th>Wave_Prd</th>\n      <th>Wind_Dir</th>\n      <th>Wind_Spd</th>\n      <th>Barometer</th>\n      <th>Dry_T</th>\n      <th>Wet_T</th>\n      <th>Wea</th>\n      <th>Cloud_Typ</th>\n      <th>Cloud_Amt</th>\n      <th>Visibility</th>\n    </tr>\n  </thead>\n  <tbody>\n    <tr>\n      <th>0</th>\n      <td>1</td>\n      <td>1949-03-01-C-31CR</td>\n      <td>194903</td>\n      <td>19490305400560</td>\n      <td>5400560</td>\n      <td>19-4903CR-HY-060-0930-05400560</td>\n      <td>054.0 056.0</td>\n      <td>1</td>\n      <td>NST</td>\n      <td>NaN</td>\n      <td>...</td>\n      <td>NaN</td>\n      <td>23.0</td>\n      <td>18.0</td>\n      <td>NaN</td>\n      <td>NaN</td>\n      <td>NaN</td>\n      <td>2.0</td>\n      <td>NaN</td>\n      <td>NaN</td>\n      <td>NaN</td>\n    </tr>\n    <tr>\n      <th>1</th>\n      <td>2</td>\n      <td>1949-03-01-C-31CR</td>\n      <td>194903</td>\n      <td>19490305200750</td>\n      <td>5200750</td>\n      <td>19-4903CR-HY-060-2112-05200750</td>\n      <td>052.0 075.0</td>\n      <td>1</td>\n      <td>NST</td>\n      <td>NaN</td>\n      <td>...</td>\n      <td>NaN</td>\n      <td>16.0</td>\n      <td>5.0</td>\n      <td>NaN</td>\n      <td>NaN</td>\n      <td>NaN</td>\n      <td>4.0</td>\n      <td>NaN</td>\n      <td>NaN</td>\n      <td>NaN</td>\n    </tr>\n    <tr>\n      <th>2</th>\n      <td>3</td>\n      <td>1949-03-01-C-31CR</td>\n      <td>194903</td>\n      <td>19490305100850</td>\n      <td>5100850</td>\n      <td>19-4903CR-HY-061-0354-05100850</td>\n      <td>051.0 085.0</td>\n      <td>1</td>\n      <td>NST</td>\n      <td>NaN</td>\n      <td>...</td>\n      <td>NaN</td>\n      <td>23.0</td>\n      <td>5.0</td>\n      <td>NaN</td>\n      <td>NaN</td>\n      <td>NaN</td>\n      <td>6.0</td>\n      <td>NaN</td>\n      <td>NaN</td>\n      <td>NaN</td>\n    </tr>\n    <tr>\n      <th>3</th>\n      <td>4</td>\n      <td>1949-03-01-C-31CR</td>\n      <td>194903</td>\n      <td>19490305000950</td>\n      <td>5000950</td>\n      <td>19-4903CR-HY-061-1042-05000950</td>\n      <td>050.0 095.0</td>\n      <td>1</td>\n      <td>NST</td>\n      <td>NaN</td>\n      <td>...</td>\n      <td>NaN</td>\n      <td>18.0</td>\n      <td>8.0</td>\n      <td>NaN</td>\n      <td>NaN</td>\n      <td>NaN</td>\n      <td>2.0</td>\n      <td>NaN</td>\n      <td>NaN</td>\n      <td>NaN</td>\n    </tr>\n    <tr>\n      <th>4</th>\n      <td>5</td>\n      <td>1949-03-01-C-31CR</td>\n      <td>194903</td>\n      <td>19490305001040</td>\n      <td>5001040</td>\n      <td>19-4903CR-HY-061-1706-05001040</td>\n      <td>050.0 104.0</td>\n      <td>1</td>\n      <td>NST</td>\n      <td>NaN</td>\n      <td>...</td>\n      <td>NaN</td>\n      <td>27.0</td>\n      <td>13.0</td>\n      <td>NaN</td>\n      <td>NaN</td>\n      <td>NaN</td>\n      <td>7.0</td>\n      <td>NaN</td>\n      <td>NaN</td>\n      <td>NaN</td>\n    </tr>\n  </tbody>\n</table>\n<p>5 rows × 61 columns</p>\n</div>"
     },
     "execution_count": 3,
     "metadata": {},
     "output_type": "execute_result"
    }
   ],
   "source": [
    "# Show data demo\n",
    "data.head()"
   ],
   "metadata": {
    "collapsed": false,
    "ExecuteTime": {
     "end_time": "2023-05-15T01:46:38.416532300Z",
     "start_time": "2023-05-15T01:46:38.384362500Z"
    }
   }
  },
  {
   "cell_type": "code",
   "execution_count": null,
   "outputs": [],
   "source": [],
   "metadata": {
    "collapsed": false
   }
  }
 ],
 "metadata": {
  "kernelspec": {
   "display_name": "Python 3",
   "language": "python",
   "name": "python3"
  },
  "language_info": {
   "codemirror_mode": {
    "name": "ipython",
    "version": 2
   },
   "file_extension": ".py",
   "mimetype": "text/x-python",
   "name": "python",
   "nbconvert_exporter": "python",
   "pygments_lexer": "ipython2",
   "version": "2.7.6"
  }
 },
 "nbformat": 4,
 "nbformat_minor": 0
}
