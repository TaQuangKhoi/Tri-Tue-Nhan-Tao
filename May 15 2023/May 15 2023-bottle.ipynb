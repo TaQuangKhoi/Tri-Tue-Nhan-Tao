{
 "cells": [
  {
   "cell_type": "code",
   "execution_count": 1,
   "metadata": {
    "collapsed": true,
    "ExecuteTime": {
     "end_time": "2023-05-15T01:01:34.366971600Z",
     "start_time": "2023-05-15T01:01:30.350883700Z"
    }
   },
   "outputs": [],
   "source": [
    "import pandas as pd\n",
    "import numpy as np\n",
    "import matplotlib.pyplot as plt\n",
    "from sklearn import linear_model"
   ]
  },
  {
   "cell_type": "code",
   "execution_count": 3,
   "outputs": [],
   "source": [
    "source_file = 'bottle.csv'\n",
    "data = pd.read_csv(source_file, low_memory=False)"
   ],
   "metadata": {
    "collapsed": false,
    "ExecuteTime": {
     "end_time": "2023-05-15T01:04:25.470838500Z",
     "start_time": "2023-05-15T01:04:16.444552100Z"
    }
   }
  },
  {
   "cell_type": "code",
   "execution_count": 4,
   "outputs": [
    {
     "data": {
      "text/plain": "   Cst_Cnt  Btl_Cnt       Sta_ID                                Depth_ID  \\\n0        1        1  054.0 056.0  19-4903CR-HY-060-0930-05400560-0000A-3   \n1        1        2  054.0 056.0  19-4903CR-HY-060-0930-05400560-0008A-3   \n2        1        3  054.0 056.0  19-4903CR-HY-060-0930-05400560-0010A-7   \n3        1        4  054.0 056.0  19-4903CR-HY-060-0930-05400560-0019A-3   \n4        1        5  054.0 056.0  19-4903CR-HY-060-0930-05400560-0020A-7   \n\n   Depthm  T_degC  Salnty  O2ml_L  STheta  O2Sat  ...  R_PHAEO  R_PRES  \\\n0       0   10.50  33.440     NaN  25.649    NaN  ...      NaN       0   \n1       8   10.46  33.440     NaN  25.656    NaN  ...      NaN       8   \n2      10   10.46  33.437     NaN  25.654    NaN  ...      NaN      10   \n3      19   10.45  33.420     NaN  25.643    NaN  ...      NaN      19   \n4      20   10.45  33.421     NaN  25.643    NaN  ...      NaN      20   \n\n   R_SAMP  DIC1  DIC2  TA1  TA2  pH2  pH1  DIC Quality Comment  \n0     NaN   NaN   NaN  NaN  NaN  NaN  NaN                  NaN  \n1     NaN   NaN   NaN  NaN  NaN  NaN  NaN                  NaN  \n2     NaN   NaN   NaN  NaN  NaN  NaN  NaN                  NaN  \n3     NaN   NaN   NaN  NaN  NaN  NaN  NaN                  NaN  \n4     NaN   NaN   NaN  NaN  NaN  NaN  NaN                  NaN  \n\n[5 rows x 74 columns]",
      "text/html": "<div>\n<style scoped>\n    .dataframe tbody tr th:only-of-type {\n        vertical-align: middle;\n    }\n\n    .dataframe tbody tr th {\n        vertical-align: top;\n    }\n\n    .dataframe thead th {\n        text-align: right;\n    }\n</style>\n<table border=\"1\" class=\"dataframe\">\n  <thead>\n    <tr style=\"text-align: right;\">\n      <th></th>\n      <th>Cst_Cnt</th>\n      <th>Btl_Cnt</th>\n      <th>Sta_ID</th>\n      <th>Depth_ID</th>\n      <th>Depthm</th>\n      <th>T_degC</th>\n      <th>Salnty</th>\n      <th>O2ml_L</th>\n      <th>STheta</th>\n      <th>O2Sat</th>\n      <th>...</th>\n      <th>R_PHAEO</th>\n      <th>R_PRES</th>\n      <th>R_SAMP</th>\n      <th>DIC1</th>\n      <th>DIC2</th>\n      <th>TA1</th>\n      <th>TA2</th>\n      <th>pH2</th>\n      <th>pH1</th>\n      <th>DIC Quality Comment</th>\n    </tr>\n  </thead>\n  <tbody>\n    <tr>\n      <th>0</th>\n      <td>1</td>\n      <td>1</td>\n      <td>054.0 056.0</td>\n      <td>19-4903CR-HY-060-0930-05400560-0000A-3</td>\n      <td>0</td>\n      <td>10.50</td>\n      <td>33.440</td>\n      <td>NaN</td>\n      <td>25.649</td>\n      <td>NaN</td>\n      <td>...</td>\n      <td>NaN</td>\n      <td>0</td>\n      <td>NaN</td>\n      <td>NaN</td>\n      <td>NaN</td>\n      <td>NaN</td>\n      <td>NaN</td>\n      <td>NaN</td>\n      <td>NaN</td>\n      <td>NaN</td>\n    </tr>\n    <tr>\n      <th>1</th>\n      <td>1</td>\n      <td>2</td>\n      <td>054.0 056.0</td>\n      <td>19-4903CR-HY-060-0930-05400560-0008A-3</td>\n      <td>8</td>\n      <td>10.46</td>\n      <td>33.440</td>\n      <td>NaN</td>\n      <td>25.656</td>\n      <td>NaN</td>\n      <td>...</td>\n      <td>NaN</td>\n      <td>8</td>\n      <td>NaN</td>\n      <td>NaN</td>\n      <td>NaN</td>\n      <td>NaN</td>\n      <td>NaN</td>\n      <td>NaN</td>\n      <td>NaN</td>\n      <td>NaN</td>\n    </tr>\n    <tr>\n      <th>2</th>\n      <td>1</td>\n      <td>3</td>\n      <td>054.0 056.0</td>\n      <td>19-4903CR-HY-060-0930-05400560-0010A-7</td>\n      <td>10</td>\n      <td>10.46</td>\n      <td>33.437</td>\n      <td>NaN</td>\n      <td>25.654</td>\n      <td>NaN</td>\n      <td>...</td>\n      <td>NaN</td>\n      <td>10</td>\n      <td>NaN</td>\n      <td>NaN</td>\n      <td>NaN</td>\n      <td>NaN</td>\n      <td>NaN</td>\n      <td>NaN</td>\n      <td>NaN</td>\n      <td>NaN</td>\n    </tr>\n    <tr>\n      <th>3</th>\n      <td>1</td>\n      <td>4</td>\n      <td>054.0 056.0</td>\n      <td>19-4903CR-HY-060-0930-05400560-0019A-3</td>\n      <td>19</td>\n      <td>10.45</td>\n      <td>33.420</td>\n      <td>NaN</td>\n      <td>25.643</td>\n      <td>NaN</td>\n      <td>...</td>\n      <td>NaN</td>\n      <td>19</td>\n      <td>NaN</td>\n      <td>NaN</td>\n      <td>NaN</td>\n      <td>NaN</td>\n      <td>NaN</td>\n      <td>NaN</td>\n      <td>NaN</td>\n      <td>NaN</td>\n    </tr>\n    <tr>\n      <th>4</th>\n      <td>1</td>\n      <td>5</td>\n      <td>054.0 056.0</td>\n      <td>19-4903CR-HY-060-0930-05400560-0020A-7</td>\n      <td>20</td>\n      <td>10.45</td>\n      <td>33.421</td>\n      <td>NaN</td>\n      <td>25.643</td>\n      <td>NaN</td>\n      <td>...</td>\n      <td>NaN</td>\n      <td>20</td>\n      <td>NaN</td>\n      <td>NaN</td>\n      <td>NaN</td>\n      <td>NaN</td>\n      <td>NaN</td>\n      <td>NaN</td>\n      <td>NaN</td>\n      <td>NaN</td>\n    </tr>\n  </tbody>\n</table>\n<p>5 rows × 74 columns</p>\n</div>"
     },
     "execution_count": 4,
     "metadata": {},
     "output_type": "execute_result"
    }
   ],
   "source": [
    "# Show data demo\n",
    "data.head()"
   ],
   "metadata": {
    "collapsed": false,
    "ExecuteTime": {
     "end_time": "2023-05-15T01:04:49.179767900Z",
     "start_time": "2023-05-15T01:04:49.142493900Z"
    }
   }
  },
  {
   "cell_type": "code",
   "execution_count": 7,
   "outputs": [
    {
     "data": {
      "text/plain": "0         10.500\n1         10.460\n2         10.460\n3         10.450\n4         10.450\n           ...  \n864858    18.744\n864859    18.744\n864860    18.692\n864861    18.161\n864862    17.533\nName: T_degC, Length: 864863, dtype: float64"
     },
     "execution_count": 7,
     "metadata": {},
     "output_type": "execute_result"
    }
   ],
   "source": [
    "t_degC_Raw = data['T_degC']\n",
    "t_degC_Raw"
   ],
   "metadata": {
    "collapsed": false,
    "ExecuteTime": {
     "end_time": "2023-05-15T02:03:30.472976100Z",
     "start_time": "2023-05-15T02:03:30.447805800Z"
    }
   }
  },
  {
   "cell_type": "code",
   "execution_count": 8,
   "outputs": [
    {
     "data": {
      "text/plain": "array([[10.5  ],\n       [10.46 ],\n       [10.46 ],\n       ...,\n       [18.692],\n       [18.161],\n       [17.533]])"
     },
     "execution_count": 8,
     "metadata": {},
     "output_type": "execute_result"
    }
   ],
   "source": [
    "t_degC = np.array([t_degC_Raw.values]).T\n",
    "t_degC"
   ],
   "metadata": {
    "collapsed": false,
    "ExecuteTime": {
     "end_time": "2023-05-15T02:03:57.487703500Z",
     "start_time": "2023-05-15T02:03:57.452225500Z"
    }
   }
  },
  {
   "cell_type": "code",
   "execution_count": 10,
   "outputs": [
    {
     "data": {
      "text/plain": "0         33.4400\n1         33.4400\n2         33.4370\n3         33.4200\n4         33.4210\n           ...   \n864858    33.4083\n864859    33.4083\n864860    33.4150\n864861    33.4062\n864862    33.3880\nName: Salnty, Length: 864863, dtype: float64"
     },
     "execution_count": 10,
     "metadata": {},
     "output_type": "execute_result"
    }
   ],
   "source": [
    "salntyRaw = data['Salnty']\n",
    "salntyRaw"
   ],
   "metadata": {
    "collapsed": false,
    "ExecuteTime": {
     "end_time": "2023-05-15T02:08:12.188246500Z",
     "start_time": "2023-05-15T02:08:12.173931900Z"
    }
   }
  },
  {
   "cell_type": "code",
   "execution_count": 12,
   "outputs": [
    {
     "data": {
      "text/plain": "array([[33.44  ],\n       [33.44  ],\n       [33.437 ],\n       ...,\n       [33.415 ],\n       [33.4062],\n       [33.388 ]])"
     },
     "execution_count": 12,
     "metadata": {},
     "output_type": "execute_result"
    }
   ],
   "source": [
    "salnty = np.array([salntyRaw.values]).T\n",
    "salnty"
   ],
   "metadata": {
    "collapsed": false,
    "ExecuteTime": {
     "end_time": "2023-05-15T02:08:43.753566900Z",
     "start_time": "2023-05-15T02:08:43.732721500Z"
    }
   }
  }
 ],
 "metadata": {
  "kernelspec": {
   "display_name": "Python 3",
   "language": "python",
   "name": "python3"
  },
  "language_info": {
   "codemirror_mode": {
    "name": "ipython",
    "version": 2
   },
   "file_extension": ".py",
   "mimetype": "text/x-python",
   "name": "python",
   "nbconvert_exporter": "python",
   "pygments_lexer": "ipython2",
   "version": "2.7.6"
  }
 },
 "nbformat": 4,
 "nbformat_minor": 0
}
