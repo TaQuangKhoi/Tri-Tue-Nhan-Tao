{
 "cells": [
  {
   "cell_type": "code",
   "execution_count": 1,
   "metadata": {
    "collapsed": true,
    "ExecuteTime": {
     "end_time": "2023-05-27T11:11:38.141787800Z",
     "start_time": "2023-05-27T11:11:34.120495500Z"
    }
   },
   "outputs": [],
   "source": [
    "import pandas as pd\n",
    "import numpy as np\n",
    "import matplotlib.pyplot as plt\n",
    "from sklearn import linear_model"
   ]
  },
  {
   "cell_type": "code",
   "execution_count": 4,
   "outputs": [
    {
     "data": {
      "text/plain": "      X    Y\n0   609  241\n1   629  222\n2   620  233\n3   564  207\n4   645  247\n5   493  189\n6   606  226\n7   660  240\n8   630  215\n9   672  231\n10  778  263\n11  616  220\n12  727  271\n13  810  284\n14  778  279\n15  823  272\n16  755  268\n17  710  278\n18  701  238\n19  803  255\n20  855  308\n21  838  281\n22  830  288\n23  864  306\n24  635  236\n25  565  204\n26  562  216\n27  580  225\n28  596  220\n29  597  219\n30  636  201\n31  559  213\n32  615  228\n33  740  234\n34  677  237\n35  675  217\n36  629  211\n37  692  238\n38  710  221\n39  730  281\n40  763  292\n41  686  251\n42  717  231\n43  737  275\n44  816  275",
      "text/html": "<div>\n<style scoped>\n    .dataframe tbody tr th:only-of-type {\n        vertical-align: middle;\n    }\n\n    .dataframe tbody tr th {\n        vertical-align: top;\n    }\n\n    .dataframe thead th {\n        text-align: right;\n    }\n</style>\n<table border=\"1\" class=\"dataframe\">\n  <thead>\n    <tr style=\"text-align: right;\">\n      <th></th>\n      <th>X</th>\n      <th>Y</th>\n    </tr>\n  </thead>\n  <tbody>\n    <tr>\n      <th>0</th>\n      <td>609</td>\n      <td>241</td>\n    </tr>\n    <tr>\n      <th>1</th>\n      <td>629</td>\n      <td>222</td>\n    </tr>\n    <tr>\n      <th>2</th>\n      <td>620</td>\n      <td>233</td>\n    </tr>\n    <tr>\n      <th>3</th>\n      <td>564</td>\n      <td>207</td>\n    </tr>\n    <tr>\n      <th>4</th>\n      <td>645</td>\n      <td>247</td>\n    </tr>\n    <tr>\n      <th>5</th>\n      <td>493</td>\n      <td>189</td>\n    </tr>\n    <tr>\n      <th>6</th>\n      <td>606</td>\n      <td>226</td>\n    </tr>\n    <tr>\n      <th>7</th>\n      <td>660</td>\n      <td>240</td>\n    </tr>\n    <tr>\n      <th>8</th>\n      <td>630</td>\n      <td>215</td>\n    </tr>\n    <tr>\n      <th>9</th>\n      <td>672</td>\n      <td>231</td>\n    </tr>\n    <tr>\n      <th>10</th>\n      <td>778</td>\n      <td>263</td>\n    </tr>\n    <tr>\n      <th>11</th>\n      <td>616</td>\n      <td>220</td>\n    </tr>\n    <tr>\n      <th>12</th>\n      <td>727</td>\n      <td>271</td>\n    </tr>\n    <tr>\n      <th>13</th>\n      <td>810</td>\n      <td>284</td>\n    </tr>\n    <tr>\n      <th>14</th>\n      <td>778</td>\n      <td>279</td>\n    </tr>\n    <tr>\n      <th>15</th>\n      <td>823</td>\n      <td>272</td>\n    </tr>\n    <tr>\n      <th>16</th>\n      <td>755</td>\n      <td>268</td>\n    </tr>\n    <tr>\n      <th>17</th>\n      <td>710</td>\n      <td>278</td>\n    </tr>\n    <tr>\n      <th>18</th>\n      <td>701</td>\n      <td>238</td>\n    </tr>\n    <tr>\n      <th>19</th>\n      <td>803</td>\n      <td>255</td>\n    </tr>\n    <tr>\n      <th>20</th>\n      <td>855</td>\n      <td>308</td>\n    </tr>\n    <tr>\n      <th>21</th>\n      <td>838</td>\n      <td>281</td>\n    </tr>\n    <tr>\n      <th>22</th>\n      <td>830</td>\n      <td>288</td>\n    </tr>\n    <tr>\n      <th>23</th>\n      <td>864</td>\n      <td>306</td>\n    </tr>\n    <tr>\n      <th>24</th>\n      <td>635</td>\n      <td>236</td>\n    </tr>\n    <tr>\n      <th>25</th>\n      <td>565</td>\n      <td>204</td>\n    </tr>\n    <tr>\n      <th>26</th>\n      <td>562</td>\n      <td>216</td>\n    </tr>\n    <tr>\n      <th>27</th>\n      <td>580</td>\n      <td>225</td>\n    </tr>\n    <tr>\n      <th>28</th>\n      <td>596</td>\n      <td>220</td>\n    </tr>\n    <tr>\n      <th>29</th>\n      <td>597</td>\n      <td>219</td>\n    </tr>\n    <tr>\n      <th>30</th>\n      <td>636</td>\n      <td>201</td>\n    </tr>\n    <tr>\n      <th>31</th>\n      <td>559</td>\n      <td>213</td>\n    </tr>\n    <tr>\n      <th>32</th>\n      <td>615</td>\n      <td>228</td>\n    </tr>\n    <tr>\n      <th>33</th>\n      <td>740</td>\n      <td>234</td>\n    </tr>\n    <tr>\n      <th>34</th>\n      <td>677</td>\n      <td>237</td>\n    </tr>\n    <tr>\n      <th>35</th>\n      <td>675</td>\n      <td>217</td>\n    </tr>\n    <tr>\n      <th>36</th>\n      <td>629</td>\n      <td>211</td>\n    </tr>\n    <tr>\n      <th>37</th>\n      <td>692</td>\n      <td>238</td>\n    </tr>\n    <tr>\n      <th>38</th>\n      <td>710</td>\n      <td>221</td>\n    </tr>\n    <tr>\n      <th>39</th>\n      <td>730</td>\n      <td>281</td>\n    </tr>\n    <tr>\n      <th>40</th>\n      <td>763</td>\n      <td>292</td>\n    </tr>\n    <tr>\n      <th>41</th>\n      <td>686</td>\n      <td>251</td>\n    </tr>\n    <tr>\n      <th>42</th>\n      <td>717</td>\n      <td>231</td>\n    </tr>\n    <tr>\n      <th>43</th>\n      <td>737</td>\n      <td>275</td>\n    </tr>\n    <tr>\n      <th>44</th>\n      <td>816</td>\n      <td>275</td>\n    </tr>\n  </tbody>\n</table>\n</div>"
     },
     "execution_count": 4,
     "metadata": {},
     "output_type": "execute_result"
    }
   ],
   "source": [
    "data = pd.read_excel('data.xlsx')\n",
    "data"
   ],
   "metadata": {
    "collapsed": false,
    "ExecuteTime": {
     "end_time": "2023-05-27T13:29:43.614591500Z",
     "start_time": "2023-05-27T13:29:43.516035300Z"
    }
   }
  },
  {
   "cell_type": "code",
   "execution_count": null,
   "outputs": [],
   "source": [],
   "metadata": {
    "collapsed": false
   }
  },
  {
   "cell_type": "code",
   "execution_count": 6,
   "outputs": [
    {
     "data": {
      "text/plain": "array([0.32125248, 0.41990548, 0.83440197, 0.45845188, 0.10638128,\n       0.6820764 , 0.25456934, 0.56872145, 0.58555656, 0.06306809,\n       0.29391356, 0.50071904, 0.1138879 , 0.76351109, 0.98297499,\n       0.83262161, 0.3241194 , 0.29140038, 0.83722349, 0.06410442,\n       0.94255123, 0.76543046, 0.27997868, 0.26283491, 0.7903118 ,\n       0.38916058, 0.54925284, 0.83883456, 0.89667958, 0.20913333,\n       0.33880504, 0.92625181, 0.25994165, 0.30504126, 0.78000481,\n       0.23061267, 0.52605116, 0.28206925, 0.04350825, 0.66701972,\n       0.17885207, 0.55018345, 0.47383525, 0.11923453, 0.50980556])"
     },
     "execution_count": 6,
     "metadata": {},
     "output_type": "execute_result"
    }
   ],
   "source": [
    "\n",
    "\n",
    "# Choose some index to split the data,\n",
    "test_index = np.random.rand(len(data))\n",
    "test_index"
   ],
   "metadata": {
    "collapsed": false,
    "ExecuteTime": {
     "end_time": "2023-05-27T13:31:49.455755500Z",
     "start_time": "2023-05-27T13:31:49.451691700Z"
    }
   }
  }
 ],
 "metadata": {
  "kernelspec": {
   "display_name": "Python 3",
   "language": "python",
   "name": "python3"
  },
  "language_info": {
   "codemirror_mode": {
    "name": "ipython",
    "version": 2
   },
   "file_extension": ".py",
   "mimetype": "text/x-python",
   "name": "python",
   "nbconvert_exporter": "python",
   "pygments_lexer": "ipython2",
   "version": "2.7.6"
  }
 },
 "nbformat": 4,
 "nbformat_minor": 0
}
