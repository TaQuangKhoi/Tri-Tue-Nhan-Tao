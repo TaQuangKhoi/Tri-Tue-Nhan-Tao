{
 "cells": [
  {
   "cell_type": "code",
   "execution_count": 18,
   "metadata": {
    "collapsed": true,
    "ExecuteTime": {
     "end_time": "2023-05-28T02:27:17.257560200Z",
     "start_time": "2023-05-28T02:27:17.195941800Z"
    }
   },
   "outputs": [],
   "source": [
    "import pandas as pd\n",
    "import numpy as np\n",
    "import matplotlib.pyplot as plt\n",
    "from sklearn import linear_model"
   ]
  },
  {
   "cell_type": "code",
   "execution_count": 19,
   "outputs": [
    {
     "data": {
      "text/plain": "      X    Y\n0   609  241\n1   629  222\n2   620  233\n3   564  207\n4   645  247\n5   493  189\n6   606  226\n7   660  240\n8   630  215\n9   672  231\n10  778  263\n11  616  220\n12  727  271\n13  810  284\n14  778  279\n15  823  272\n16  755  268\n17  710  278\n18  701  238\n19  803  255\n20  855  308\n21  838  281\n22  830  288\n23  864  306\n24  635  236\n25  565  204\n26  562  216\n27  580  225\n28  596  220\n29  597  219\n30  636  201\n31  559  213\n32  615  228\n33  740  234\n34  677  237\n35  675  217\n36  629  211\n37  692  238\n38  710  221\n39  730  281\n40  763  292\n41  686  251\n42  717  231\n43  737  275\n44  816  275",
      "text/html": "<div>\n<style scoped>\n    .dataframe tbody tr th:only-of-type {\n        vertical-align: middle;\n    }\n\n    .dataframe tbody tr th {\n        vertical-align: top;\n    }\n\n    .dataframe thead th {\n        text-align: right;\n    }\n</style>\n<table border=\"1\" class=\"dataframe\">\n  <thead>\n    <tr style=\"text-align: right;\">\n      <th></th>\n      <th>X</th>\n      <th>Y</th>\n    </tr>\n  </thead>\n  <tbody>\n    <tr>\n      <th>0</th>\n      <td>609</td>\n      <td>241</td>\n    </tr>\n    <tr>\n      <th>1</th>\n      <td>629</td>\n      <td>222</td>\n    </tr>\n    <tr>\n      <th>2</th>\n      <td>620</td>\n      <td>233</td>\n    </tr>\n    <tr>\n      <th>3</th>\n      <td>564</td>\n      <td>207</td>\n    </tr>\n    <tr>\n      <th>4</th>\n      <td>645</td>\n      <td>247</td>\n    </tr>\n    <tr>\n      <th>5</th>\n      <td>493</td>\n      <td>189</td>\n    </tr>\n    <tr>\n      <th>6</th>\n      <td>606</td>\n      <td>226</td>\n    </tr>\n    <tr>\n      <th>7</th>\n      <td>660</td>\n      <td>240</td>\n    </tr>\n    <tr>\n      <th>8</th>\n      <td>630</td>\n      <td>215</td>\n    </tr>\n    <tr>\n      <th>9</th>\n      <td>672</td>\n      <td>231</td>\n    </tr>\n    <tr>\n      <th>10</th>\n      <td>778</td>\n      <td>263</td>\n    </tr>\n    <tr>\n      <th>11</th>\n      <td>616</td>\n      <td>220</td>\n    </tr>\n    <tr>\n      <th>12</th>\n      <td>727</td>\n      <td>271</td>\n    </tr>\n    <tr>\n      <th>13</th>\n      <td>810</td>\n      <td>284</td>\n    </tr>\n    <tr>\n      <th>14</th>\n      <td>778</td>\n      <td>279</td>\n    </tr>\n    <tr>\n      <th>15</th>\n      <td>823</td>\n      <td>272</td>\n    </tr>\n    <tr>\n      <th>16</th>\n      <td>755</td>\n      <td>268</td>\n    </tr>\n    <tr>\n      <th>17</th>\n      <td>710</td>\n      <td>278</td>\n    </tr>\n    <tr>\n      <th>18</th>\n      <td>701</td>\n      <td>238</td>\n    </tr>\n    <tr>\n      <th>19</th>\n      <td>803</td>\n      <td>255</td>\n    </tr>\n    <tr>\n      <th>20</th>\n      <td>855</td>\n      <td>308</td>\n    </tr>\n    <tr>\n      <th>21</th>\n      <td>838</td>\n      <td>281</td>\n    </tr>\n    <tr>\n      <th>22</th>\n      <td>830</td>\n      <td>288</td>\n    </tr>\n    <tr>\n      <th>23</th>\n      <td>864</td>\n      <td>306</td>\n    </tr>\n    <tr>\n      <th>24</th>\n      <td>635</td>\n      <td>236</td>\n    </tr>\n    <tr>\n      <th>25</th>\n      <td>565</td>\n      <td>204</td>\n    </tr>\n    <tr>\n      <th>26</th>\n      <td>562</td>\n      <td>216</td>\n    </tr>\n    <tr>\n      <th>27</th>\n      <td>580</td>\n      <td>225</td>\n    </tr>\n    <tr>\n      <th>28</th>\n      <td>596</td>\n      <td>220</td>\n    </tr>\n    <tr>\n      <th>29</th>\n      <td>597</td>\n      <td>219</td>\n    </tr>\n    <tr>\n      <th>30</th>\n      <td>636</td>\n      <td>201</td>\n    </tr>\n    <tr>\n      <th>31</th>\n      <td>559</td>\n      <td>213</td>\n    </tr>\n    <tr>\n      <th>32</th>\n      <td>615</td>\n      <td>228</td>\n    </tr>\n    <tr>\n      <th>33</th>\n      <td>740</td>\n      <td>234</td>\n    </tr>\n    <tr>\n      <th>34</th>\n      <td>677</td>\n      <td>237</td>\n    </tr>\n    <tr>\n      <th>35</th>\n      <td>675</td>\n      <td>217</td>\n    </tr>\n    <tr>\n      <th>36</th>\n      <td>629</td>\n      <td>211</td>\n    </tr>\n    <tr>\n      <th>37</th>\n      <td>692</td>\n      <td>238</td>\n    </tr>\n    <tr>\n      <th>38</th>\n      <td>710</td>\n      <td>221</td>\n    </tr>\n    <tr>\n      <th>39</th>\n      <td>730</td>\n      <td>281</td>\n    </tr>\n    <tr>\n      <th>40</th>\n      <td>763</td>\n      <td>292</td>\n    </tr>\n    <tr>\n      <th>41</th>\n      <td>686</td>\n      <td>251</td>\n    </tr>\n    <tr>\n      <th>42</th>\n      <td>717</td>\n      <td>231</td>\n    </tr>\n    <tr>\n      <th>43</th>\n      <td>737</td>\n      <td>275</td>\n    </tr>\n    <tr>\n      <th>44</th>\n      <td>816</td>\n      <td>275</td>\n    </tr>\n  </tbody>\n</table>\n</div>"
     },
     "execution_count": 19,
     "metadata": {},
     "output_type": "execute_result"
    }
   ],
   "source": [
    "data = pd.read_excel('data.xlsx')\n",
    "data"
   ],
   "metadata": {
    "collapsed": false,
    "ExecuteTime": {
     "end_time": "2023-05-28T02:27:17.258552200Z",
     "start_time": "2023-05-28T02:27:17.213669100Z"
    }
   }
  },
  {
   "cell_type": "code",
   "execution_count": 20,
   "outputs": [],
   "source": [
    "x_col = data[['X']] # class pandas.core.series.Series\n",
    "y_col = data[['Y']] # class pandas.core.series.Series"
   ],
   "metadata": {
    "collapsed": false,
    "ExecuteTime": {
     "end_time": "2023-05-28T02:27:17.280583900Z",
     "start_time": "2023-05-28T02:27:17.245682600Z"
    }
   }
  },
  {
   "cell_type": "code",
   "execution_count": 21,
   "outputs": [
    {
     "data": {
      "text/plain": "array([ 6, 15, 36, 11, 44], dtype=int64)"
     },
     "execution_count": 21,
     "metadata": {},
     "output_type": "execute_result"
    }
   ],
   "source": [
    "# Create an instance of the Generator object\n",
    "rng = np.random.default_rng()\n",
    "\n",
    "# Choose some index to split the data,\n",
    "test_index = rng.integers(low=0, high=len(x_col), size=5)\n",
    "test_index"
   ],
   "metadata": {
    "collapsed": false,
    "ExecuteTime": {
     "end_time": "2023-05-28T02:27:17.283291400Z",
     "start_time": "2023-05-28T02:27:17.262066100Z"
    }
   }
  },
  {
   "cell_type": "code",
   "execution_count": 22,
   "outputs": [
    {
     "name": "stdout",
     "output_type": "stream",
     "text": [
      "[[609]\n",
      " [629]\n",
      " [620]\n",
      " [564]\n",
      " [645]\n",
      " [493]\n",
      " [660]\n",
      " [630]\n",
      " [672]\n",
      " [778]\n",
      " [727]\n",
      " [810]\n",
      " [778]\n",
      " [755]\n",
      " [710]\n",
      " [701]\n",
      " [803]\n",
      " [855]\n",
      " [838]\n",
      " [830]\n",
      " [864]\n",
      " [635]\n",
      " [565]\n",
      " [562]\n",
      " [580]\n",
      " [596]\n",
      " [597]\n",
      " [636]\n",
      " [559]\n",
      " [615]\n",
      " [740]\n",
      " [677]\n",
      " [675]\n",
      " [692]\n",
      " [710]\n",
      " [730]\n",
      " [763]\n",
      " [686]\n",
      " [717]\n",
      " [737]]\n"
     ]
    }
   ],
   "source": [
    "train_data = np.array([x_col.drop(test_index)])\n",
    "train_data = train_data.reshape(-1, 1)\n",
    "print(train_data)"
   ],
   "metadata": {
    "collapsed": false,
    "ExecuteTime": {
     "end_time": "2023-05-28T02:27:17.458045900Z",
     "start_time": "2023-05-28T02:27:17.275946800Z"
    }
   }
  },
  {
   "cell_type": "code",
   "execution_count": 23,
   "outputs": [
    {
     "name": "stdout",
     "output_type": "stream",
     "text": [
      "[[241]\n",
      " [222]\n",
      " [233]\n",
      " [207]\n",
      " [247]\n",
      " [189]\n",
      " [240]\n",
      " [215]\n",
      " [231]\n",
      " [263]\n",
      " [271]\n",
      " [284]\n",
      " [279]\n",
      " [268]\n",
      " [278]\n",
      " [238]\n",
      " [255]\n",
      " [308]\n",
      " [281]\n",
      " [288]\n",
      " [306]\n",
      " [236]\n",
      " [204]\n",
      " [216]\n",
      " [225]\n",
      " [220]\n",
      " [219]\n",
      " [201]\n",
      " [213]\n",
      " [228]\n",
      " [234]\n",
      " [237]\n",
      " [217]\n",
      " [238]\n",
      " [221]\n",
      " [281]\n",
      " [292]\n",
      " [251]\n",
      " [231]\n",
      " [275]]\n"
     ]
    }
   ],
   "source": [
    "train_target = np.array([y_col.drop(test_index)])\n",
    "train_target = train_target.reshape(-1, 1)\n",
    "print(train_target)"
   ],
   "metadata": {
    "collapsed": false,
    "ExecuteTime": {
     "end_time": "2023-05-28T02:27:17.476502Z",
     "start_time": "2023-05-28T02:27:17.293509700Z"
    }
   }
  },
  {
   "cell_type": "code",
   "execution_count": 24,
   "outputs": [
    {
     "data": {
      "text/plain": "<Figure size 640x480 with 1 Axes>",
      "image/png": "[encoded data removed]"
     },
     "metadata": {},
     "output_type": "display_data"
    }
   ],
   "source": [
    "plt.scatter(x_col, y_col)\n",
    "plt.xlabel('X')\n",
    "plt.ylabel('Y')\n",
    "plt.title('X vs Y')\n",
    "plt.show()"
   ],
   "metadata": {
    "collapsed": false,
    "ExecuteTime": {
     "end_time": "2023-05-28T02:27:17.659352200Z",
     "start_time": "2023-05-28T02:27:17.310298900Z"
    }
   }
  },
  {
   "cell_type": "code",
   "execution_count": 25,
   "outputs": [
    {
     "data": {
      "text/plain": "LinearRegression()",
      "text/html": "<style>#sk-container-id-1 {color: black;background-color: white;}#sk-container-id-1 pre{padding: 0;}#sk-container-id-1 div.sk-toggleable {background-color: white;}#sk-container-id-1 label.sk-toggleable__label {cursor: pointer;display: block;width: 100%;margin-bottom: 0;padding: 0.3em;box-sizing: border-box;text-align: center;}#sk-container-id-1 label.sk-toggleable__label-arrow:before {content: \"▸\";float: left;margin-right: 0.25em;color: #696969;}#sk-container-id-1 label.sk-toggleable__label-arrow:hover:before {color: black;}#sk-container-id-1 div.sk-estimator:hover label.sk-toggleable__label-arrow:before {color: black;}#sk-container-id-1 div.sk-toggleable__content {max-height: 0;max-width: 0;overflow: hidden;text-align: left;background-color: #f0f8ff;}#sk-container-id-1 div.sk-toggleable__content pre {margin: 0.2em;color: black;border-radius: 0.25em;background-color: #f0f8ff;}#sk-container-id-1 input.sk-toggleable__control:checked~div.sk-toggleable__content {max-height: 200px;max-width: 100%;overflow: auto;}#sk-container-id-1 input.sk-toggleable__control:checked~label.sk-toggleable__label-arrow:before {content: \"▾\";}#sk-container-id-1 div.sk-estimator input.sk-toggleable__control:checked~label.sk-toggleable__label {background-color: #d4ebff;}#sk-container-id-1 div.sk-label input.sk-toggleable__control:checked~label.sk-toggleable__label {background-color: #d4ebff;}#sk-container-id-1 input.sk-hidden--visually {border: 0;clip: rect(1px 1px 1px 1px);clip: rect(1px, 1px, 1px, 1px);height: 1px;margin: -1px;overflow: hidden;padding: 0;position: absolute;width: 1px;}#sk-container-id-1 div.sk-estimator {font-family: monospace;background-color: #f0f8ff;border: 1px dotted black;border-radius: 0.25em;box-sizing: border-box;margin-bottom: 0.5em;}#sk-container-id-1 div.sk-estimator:hover {background-color: #d4ebff;}#sk-container-id-1 div.sk-parallel-item::after {content: \"\";width: 100%;border-bottom: 1px solid gray;flex-grow: 1;}#sk-container-id-1 div.sk-label:hover label.sk-toggleable__label {background-color: #d4ebff;}#sk-container-id-1 div.sk-serial::before {content: \"\";position: absolute;border-left: 1px solid gray;box-sizing: border-box;top: 0;bottom: 0;left: 50%;z-index: 0;}#sk-container-id-1 div.sk-serial {display: flex;flex-direction: column;align-items: center;background-color: white;padding-right: 0.2em;padding-left: 0.2em;position: relative;}#sk-container-id-1 div.sk-item {position: relative;z-index: 1;}#sk-container-id-1 div.sk-parallel {display: flex;align-items: stretch;justify-content: center;background-color: white;position: relative;}#sk-container-id-1 div.sk-item::before, #sk-container-id-1 div.sk-parallel-item::before {content: \"\";position: absolute;border-left: 1px solid gray;box-sizing: border-box;top: 0;bottom: 0;left: 50%;z-index: -1;}#sk-container-id-1 div.sk-parallel-item {display: flex;flex-direction: column;z-index: 1;position: relative;background-color: white;}#sk-container-id-1 div.sk-parallel-item:first-child::after {align-self: flex-end;width: 50%;}#sk-container-id-1 div.sk-parallel-item:last-child::after {align-self: flex-start;width: 50%;}#sk-container-id-1 div.sk-parallel-item:only-child::after {width: 0;}#sk-container-id-1 div.sk-dashed-wrapped {border: 1px dashed gray;margin: 0 0.4em 0.5em 0.4em;box-sizing: border-box;padding-bottom: 0.4em;background-color: white;}#sk-container-id-1 div.sk-label label {font-family: monospace;font-weight: bold;display: inline-block;line-height: 1.2em;}#sk-container-id-1 div.sk-label-container {text-align: center;}#sk-container-id-1 div.sk-container {/* jupyter's `normalize.less` sets `[hidden] { display: none; }` but bootstrap.min.css set `[hidden] { display: none !important; }` so we also need the `!important` here to be able to override the default hidden behavior on the sphinx rendered scikit-learn.org. See: https://github.com/scikit-learn/scikit-learn/issues/21755 */display: inline-block !important;position: relative;}#sk-container-id-1 div.sk-text-repr-fallback {display: none;}</style><div id=\"sk-container-id-1\" class=\"sk-top-container\"><div class=\"sk-text-repr-fallback\"><pre>LinearRegression()</pre><b>In a Jupyter environment, please rerun this cell to show the HTML representation or trust the notebook. <br />On GitHub, the HTML representation is unable to render, please try loading this page with nbviewer.org.</b></div><div class=\"sk-container\" hidden><div class=\"sk-item\"><div class=\"sk-estimator sk-toggleable\"><input class=\"sk-toggleable__control sk-hidden--visually\" id=\"sk-estimator-id-1\" type=\"checkbox\" checked><label for=\"sk-estimator-id-1\" class=\"sk-toggleable__label sk-toggleable__label-arrow\">LinearRegression</label><div class=\"sk-toggleable__content\"><pre>LinearRegression()</pre></div></div></div></div></div>"
     },
     "execution_count": 25,
     "metadata": {},
     "output_type": "execute_result"
    }
   ],
   "source": [
    "classifier = linear_model.LinearRegression()\n",
    "classifier.fit(train_data, train_target )"
   ],
   "metadata": {
    "collapsed": false,
    "ExecuteTime": {
     "end_time": "2023-05-28T02:27:17.773334100Z",
     "start_time": "2023-05-28T02:27:17.621498400Z"
    }
   }
  },
  {
   "cell_type": "code",
   "execution_count": 26,
   "outputs": [
    {
     "name": "stdout",
     "output_type": "stream",
     "text": [
      "w =  [0.29237471]\n",
      "b =  [43.98401958]\n"
     ]
    }
   ],
   "source": [
    "# y = w0 + w1 * x1\n",
    "# target = coef_ * feature + intercept_\n",
    "w = classifier.coef_[0]\n",
    "b = classifier.intercept_\n",
    "print('w = ', w)\n",
    "print('b = ', b)"
   ],
   "metadata": {
    "collapsed": false,
    "ExecuteTime": {
     "end_time": "2023-05-28T02:27:17.774386100Z",
     "start_time": "2023-05-28T02:27:17.698173Z"
    }
   }
  },
  {
   "cell_type": "code",
   "execution_count": 27,
   "outputs": [
    {
     "name": "stdout",
     "output_type": "stream",
     "text": [
      "x0 :  [500. 850.]\n",
      "xy :  [190.1713755  292.50252464]\n"
     ]
    }
   ],
   "source": [
    "# Fitting line\n",
    "x0 = np.linspace(500, 850, 2, endpoint=True)\n",
    "y0 = (w * x0) + b\n",
    "print('x0 : ', x0 )\n",
    "print('xy : ', y0 )"
   ],
   "metadata": {
    "collapsed": false,
    "ExecuteTime": {
     "end_time": "2023-05-28T02:27:52.500827900Z",
     "start_time": "2023-05-28T02:27:52.488061800Z"
    }
   }
  },
  {
   "cell_type": "code",
   "execution_count": 43,
   "outputs": [
    {
     "data": {
      "text/plain": "<Figure size 640x480 with 1 Axes>",
      "image/png": "[encoded data removed]"
     },
     "metadata": {},
     "output_type": "display_data"
    }
   ],
   "source": [
    "# Visualize data - show features and targets relationships\n",
    "plt.plot(train_data, train_target, 'ro')\n",
    "plt.plot(x0, y0)\n",
    "plt.axis([\n",
    "    470, 860,\n",
    "    180, 300,\n",
    "])\n",
    "plt.xlabel('X')\n",
    "plt.ylabel('Y')\n",
    "plt.show()"
   ],
   "metadata": {
    "collapsed": false,
    "ExecuteTime": {
     "end_time": "2023-05-28T02:30:00.583884900Z",
     "start_time": "2023-05-28T02:30:00.419619800Z"
    }
   }
  }
 ],
 "metadata": {
  "kernelspec": {
   "display_name": "Python 3",
   "language": "python",
   "name": "python3"
  },
  "language_info": {
   "codemirror_mode": {
    "name": "ipython",
    "version": 2
   },
   "file_extension": ".py",
   "mimetype": "text/x-python",
   "name": "python",
   "nbconvert_exporter": "python",
   "pygments_lexer": "ipython2",
   "version": "2.7.6"
  }
 },
 "nbformat": 4,
 "nbformat_minor": 0
}
