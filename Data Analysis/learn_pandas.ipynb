{
 "cells": [
  {
   "cell_type": "code",
   "execution_count": 8,
   "metadata": {},
   "outputs": [
    {
     "name": "stdout",
     "output_type": "stream",
     "text": [
      "Ke toan    310\n",
      "KT         360\n",
      "CNTT       580\n",
      "Co Khi     340\n",
      "dtype: int64\n",
      "Index(['Ke toan', 'KT', 'CNTT', 'Co Khi'], dtype='object')\n",
      "[310 360 580 340]\n"
     ]
    }
   ],
   "source": [
    "import pandas as pd\n",
    "import numpy as np\n",
    "\n",
    "n = np.random.randint(100, size = 4)\n",
    "\n",
    "S = pd.Series(\n",
    "    n\n",
    ")\n",
    "\n",
    "print(S)"
   ]
  },
  {
   "cell_type": "code",
   "execution_count": null,
   "metadata": {},
   "outputs": [],
   "source": [
    "import pandas as pd\n",
    "import numpy as np\n",
    "\n",
    "chi_so = ['Ke toan', 'KT', 'CNTT', 'Co Khi']\n",
    "\n",
    "gia_tri = [310, 360, 580, 340]\n",
    "\n",
    "s = pd.Series(gia_tri, index = chi_so)\n",
    "\n",
    "print(s)\n",
    "print(s.index)\n",
    "print(s.values)"
   ]
  },
  {
   "cell_type": "code",
   "execution_count": 17,
   "metadata": {},
   "outputs": [
    {
     "name": "stdout",
     "output_type": "stream",
     "text": [
      "KT        310\n",
      "KT        360\n",
      "CNTT      580\n",
      "Co Khi    340\n",
      "dtype: int64\n",
      "Index(['KT', 'KT', 'CNTT', 'Co Khi'], dtype='object')\n",
      "[310 360 580 340]\n",
      "340\n",
      "KT    310\n",
      "KT    360\n",
      "dtype: int64\n"
     ]
    }
   ],
   "source": [
    "import pandas as pd\n",
    "import numpy as np\n",
    "\n",
    "chi_so = ['KT', 'KT', 'CNTT', 'Co Khi']\n",
    "\n",
    "gia_tri = [310, 360, 580, 340]\n",
    "\n",
    "s = pd.Series(gia_tri, index = chi_so)\n",
    "\n",
    "print(s)\n",
    "print(s.index)\n",
    "print(s.values)\n",
    "\n",
    "print(s['Co Khi'])\n",
    "print(s['KT'])"
   ]
  },
  {
   "cell_type": "code",
   "execution_count": 18,
   "metadata": {},
   "outputs": [
    {
     "name": "stdout",
     "output_type": "stream",
     "text": [
      "CNTT      680.0\n",
      "Co Khi      NaN\n",
      "KT          NaN\n",
      "KT          NaN\n",
      "PN          NaN\n",
      "dtype: float64\n"
     ]
    }
   ],
   "source": [
    "import pandas as pd\n",
    "import numpy as np\n",
    "\n",
    "chi_so = ['KT', 'KT', 'CNTT', 'Co Khi']\n",
    "\n",
    "gia_tri = [310, 360, 580, 340]\n",
    "\n",
    "s = pd.Series(gia_tri, index = chi_so)\n",
    "\n",
    "p = pd.Series([100, 100], ['CNTT', 'PN'])\n",
    "\n",
    "y = s + p\n",
    "\n",
    "print(y)"
   ]
  },
  {
   "cell_type": "code",
   "execution_count": 25,
   "metadata": {},
   "outputs": [
    {
     "name": "stdout",
     "output_type": "stream",
     "text": [
      "KT        310\n",
      "KT        360\n",
      "CNTT      580\n",
      "Co Khi    340\n",
      "dtype: int64\n",
      "KT        1310\n",
      "KT        1360\n",
      "CNTT       580\n",
      "Co Khi    1340\n",
      "dtype: int64\n"
     ]
    }
   ],
   "source": [
    "import pandas as pd\n",
    "import numpy as np\n",
    "\n",
    "chi_so = ['KT', 'KT', 'CNTT', 'Co Khi']\n",
    "\n",
    "gia_tri = [310, 360, 580, 340]\n",
    "\n",
    "s = pd.Series(gia_tri, index = chi_so)\n",
    "\n",
    "def Tang(x):\n",
    "    return x if x > 500 else x + 1000\n",
    "\n",
    "print(s)\n",
    "\n",
    "print(s.apply(Tang))"
   ]
  },
  {
   "cell_type": "code",
   "execution_count": 26,
   "metadata": {},
   "outputs": [
    {
     "name": "stdout",
     "output_type": "stream",
     "text": [
      "           0\n",
      "0        MIT\n",
      "1  Standford\n",
      "2        BVU\n"
     ]
    }
   ],
   "source": [
    "import pandas as pd\n",
    "\n",
    "names = [\"MIT\", \"Standford\", \"BVU\"]\n",
    "\n",
    "df = pd.DataFrame(names)\n",
    "\n",
    "print(df)"
   ]
  },
  {
   "cell_type": "code",
   "execution_count": 27,
   "metadata": {},
   "outputs": [
    {
     "name": "stdout",
     "output_type": "stream",
     "text": [
      "        Name  Rank\n",
      "0        MIT     1\n",
      "1  Standford     2\n",
      "2        BVU     2\n"
     ]
    }
   ],
   "source": [
    "import pandas as pd\n",
    "\n",
    "names = [\"MIT\", \"Standford\", \"BVU\"]\n",
    "\n",
    "df = pd.DataFrame(names)\n",
    "\n",
    "names_rank = [\n",
    "    [\"MIT\", 1],\n",
    "    [\"Standford\", 2],\n",
    "    [\"BVU\", 2]\n",
    "]\n",
    "\n",
    "df = pd.DataFrame(names_rank, columns = [\"Name\", \"Rank\"])\n",
    "\n",
    "print(df)"
   ]
  },
  {
   "cell_type": "code",
   "execution_count": 29,
   "metadata": {},
   "outputs": [
    {
     "name": "stdout",
     "output_type": "stream",
     "text": [
      "   Year  Population     Total  Violent\n",
      "0  2015    92184091  34958503      234\n",
      "1  2016  3908109238     23848     2384\n",
      "2  2017  1281309821    902384     3456\n",
      "3  2018     9123821     28340     3734\n",
      "4  2019      239847    290384     7248\n"
     ]
    }
   ],
   "source": [
    "import pandas as pd\n",
    "\n",
    "crimes_rate = {\n",
    "    \"Year\": [2015, 2016, 2017, 2018, 2019],\n",
    "    \"Population\": [92184091, 3908109238, 1281309821, 9123821, 239847],\n",
    "    \"Total\": [34958503, 23848, 902384, 28340, 290384],\n",
    "    \"Violent\": [234, 2384, 3456, 3734, 7248],\n",
    "}\n",
    "\n",
    "Crimes_dataFrame = pd.DataFrame(crimes_rate)\n",
    "\n",
    "print(Crimes_dataFrame)"
   ]
  },
  {
   "cell_type": "code",
   "execution_count": null,
   "metadata": {},
   "outputs": [],
   "source": [
    "import pandas as pd\n",
    "\n",
    "data = [\n",
    "    {'NIT': 5000,\n",
    "     'Standford': 4500,\n",
    "     'BVU': 15000\n",
    "     }\n",
    "     \n",
    "]"
   ]
  }
 ],
 "metadata": {
  "kernelspec": {
   "display_name": "Python 3",
   "language": "python",
   "name": "python3"
  },
  "language_info": {
   "codemirror_mode": {
    "name": "ipython",
    "version": 3
   },
   "file_extension": ".py",
   "mimetype": "text/x-python",
   "name": "python",
   "nbconvert_exporter": "python",
   "pygments_lexer": "ipython3",
   "version": "3.11.2"
  },
  "orig_nbformat": 4
 },
 "nbformat": 4,
 "nbformat_minor": 2
}
