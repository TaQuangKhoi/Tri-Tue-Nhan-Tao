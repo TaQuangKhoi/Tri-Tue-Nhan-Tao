{
 "cells": [
  {
   "cell_type": "code",
   "execution_count": 8,
   "metadata": {},
   "outputs": [
    {
     "name": "stdout",
     "output_type": "stream",
     "text": [
      "Ke toan    310\n",
      "KT         360\n",
      "CNTT       580\n",
      "Co Khi     340\n",
      "dtype: int64\n",
      "Index(['Ke toan', 'KT', 'CNTT', 'Co Khi'], dtype='object')\n",
      "[310 360 580 340]\n"
     ]
    }
   ],
   "source": [
    "import pandas as pd\n",
    "import numpy as np\n",
    "\n",
    "n = np.random.randint(100, size = 4)\n",
    "\n",
    "S = pd.Series(\n",
    "    n\n",
    ")\n",
    "\n",
    "print(S)"
   ]
  },
  {
   "cell_type": "code",
   "execution_count": null,
   "metadata": {},
   "outputs": [],
   "source": [
    "import pandas as pd\n",
    "import numpy as np\n",
    "\n",
    "chi_so = ['Ke toan', 'KT', 'CNTT', 'Co Khi']\n",
    "\n",
    "gia_tri = [310, 360, 580, 340]\n",
    "\n",
    "s = pd.Series(gia_tri, index = chi_so)\n",
    "\n",
    "print(s)\n",
    "print(s.index)\n",
    "print(s.values)"
   ]
  },
  {
   "cell_type": "code",
   "execution_count": 17,
   "metadata": {},
   "outputs": [
    {
     "name": "stdout",
     "output_type": "stream",
     "text": [
      "KT        310\n",
      "KT        360\n",
      "CNTT      580\n",
      "Co Khi    340\n",
      "dtype: int64\n",
      "Index(['KT', 'KT', 'CNTT', 'Co Khi'], dtype='object')\n",
      "[310 360 580 340]\n",
      "340\n",
      "KT    310\n",
      "KT    360\n",
      "dtype: int64\n"
     ]
    }
   ],
   "source": [
    "import pandas as pd\n",
    "import numpy as np\n",
    "\n",
    "chi_so = ['KT', 'KT', 'CNTT', 'Co Khi']\n",
    "\n",
    "gia_tri = [310, 360, 580, 340]\n",
    "\n",
    "s = pd.Series(gia_tri, index = chi_so)\n",
    "\n",
    "print(s)\n",
    "print(s.index)\n",
    "print(s.values)\n",
    "\n",
    "print(s['Co Khi'])\n",
    "print(s['KT'])"
   ]
  },
  {
   "cell_type": "code",
   "execution_count": 18,
   "metadata": {},
   "outputs": [
    {
     "name": "stdout",
     "output_type": "stream",
     "text": [
      "CNTT      680.0\n",
      "Co Khi      NaN\n",
      "KT          NaN\n",
      "KT          NaN\n",
      "PN          NaN\n",
      "dtype: float64\n"
     ]
    }
   ],
   "source": [
    "import pandas as pd\n",
    "import numpy as np\n",
    "\n",
    "chi_so = ['KT', 'KT', 'CNTT', 'Co Khi']\n",
    "\n",
    "gia_tri = [310, 360, 580, 340]\n",
    "\n",
    "s = pd.Series(gia_tri, index = chi_so)\n",
    "\n",
    "p = pd.Series([100, 100], ['CNTT', 'PN'])\n",
    "\n",
    "y = s + p\n",
    "\n",
    "print(y)"
   ]
  },
  {
   "cell_type": "code",
   "execution_count": 25,
   "metadata": {},
   "outputs": [
    {
     "name": "stdout",
     "output_type": "stream",
     "text": [
      "KT        310\n",
      "KT        360\n",
      "CNTT      580\n",
      "Co Khi    340\n",
      "dtype: int64\n",
      "KT        1310\n",
      "KT        1360\n",
      "CNTT       580\n",
      "Co Khi    1340\n",
      "dtype: int64\n"
     ]
    }
   ],
   "source": [
    "import pandas as pd\n",
    "import numpy as np\n",
    "\n",
    "chi_so = ['KT', 'KT', 'CNTT', 'Co Khi']\n",
    "\n",
    "gia_tri = [310, 360, 580, 340]\n",
    "\n",
    "s = pd.Series(gia_tri, index = chi_so)\n",
    "\n",
    "def Tang(x):\n",
    "    return x if x > 500 else x + 1000\n",
    "\n",
    "print(s)\n",
    "\n",
    "print(s.apply(Tang))"
   ]
  },
  {
   "cell_type": "code",
   "execution_count": 26,
   "metadata": {},
   "outputs": [
    {
     "name": "stdout",
     "output_type": "stream",
     "text": [
      "           0\n",
      "0        MIT\n",
      "1  Standford\n",
      "2        BVU\n"
     ]
    }
   ],
   "source": [
    "import pandas as pd\n",
    "\n",
    "names = [\"MIT\", \"Standford\", \"BVU\"]\n",
    "\n",
    "df = pd.DataFrame(names)\n",
    "\n",
    "print(df)"
   ]
  },
  {
   "cell_type": "code",
   "execution_count": 27,
   "metadata": {},
   "outputs": [
    {
     "name": "stdout",
     "output_type": "stream",
     "text": [
      "        Name  Rank\n",
      "0        MIT     1\n",
      "1  Standford     2\n",
      "2        BVU     2\n"
     ]
    }
   ],
   "source": [
    "import pandas as pd\n",
    "\n",
    "names = [\"MIT\", \"Standford\", \"BVU\"]\n",
    "\n",
    "df = pd.DataFrame(names)\n",
    "\n",
    "names_rank = [\n",
    "    [\"MIT\", 1],\n",
    "    [\"Standford\", 2],\n",
    "    [\"BVU\", 2]\n",
    "]\n",
    "\n",
    "df = pd.DataFrame(names_rank, columns = [\"Name\", \"Rank\"])\n",
    "\n",
    "print(df)"
   ]
  },
  {
   "cell_type": "code",
   "execution_count": 29,
   "metadata": {},
   "outputs": [
    {
     "name": "stdout",
     "output_type": "stream",
     "text": [
      "   Year  Population     Total  Violent\n",
      "0  2015    92184091  34958503      234\n",
      "1  2016  3908109238     23848     2384\n",
      "2  2017  1281309821    902384     3456\n",
      "3  2018     9123821     28340     3734\n",
      "4  2019      239847    290384     7248\n"
     ]
    }
   ],
   "source": [
    "import pandas as pd\n",
    "\n",
    "crimes_rate = {\n",
    "    \"Year\": [2015, 2016, 2017, 2018, 2019],\n",
    "    \"Population\": [92184091, 3908109238, 1281309821, 9123821, 239847],\n",
    "    \"Total\": [34958503, 23848, 902384, 28340, 290384],\n",
    "    \"Violent\": [234, 2384, 3456, 3734, 7248],\n",
    "}\n",
    "\n",
    "Crimes_dataFrame = pd.DataFrame(crimes_rate)\n",
    "\n",
    "print(Crimes_dataFrame)"
   ]
  },
  {
   "cell_type": "code",
   "execution_count": 33,
   "metadata": {},
   "outputs": [
    {
     "name": "stdout",
     "output_type": "stream",
     "text": [
      "                  MIT  Standford    BVU\n",
      "NumberOfStudent  5000       4500  15000\n",
      "Ranking             1          2    200\n",
      "df.BVU.dtype int64\n"
     ]
    }
   ],
   "source": [
    "import pandas as pd\n",
    "\n",
    "data = [\n",
    "    {\n",
    "        'MIT': 5000,\n",
    "        'Standford': 4500,\n",
    "        'BVU': 15000\n",
    "    },\n",
    "    {\n",
    "        'MIT': 1,\n",
    "        'Standford': 2,\n",
    "        'BVU': 200\n",
    "    }\n",
    "]\n",
    "\n",
    "df = pd.DataFrame(data, index= ['NumberOfStudent', 'Ranking'])\n",
    "\n",
    "print(df)\n",
    "\n",
    "print(\"df.BVU.dtype\", df.BVU.dtype)"
   ]
  },
  {
   "cell_type": "code",
   "execution_count": 34,
   "metadata": {},
   "outputs": [
    {
     "name": "stdout",
     "output_type": "stream",
     "text": [
      "    one   two\n",
      "1   1.0  1000\n",
      "2  23.0  2400\n",
      "3  45.0  1132\n",
      "4   NaN  3434\n"
     ]
    }
   ],
   "source": [
    "data = {\n",
    "    'one' : pd.Series(\n",
    "        [1, 23, 45], index=[1,2,3]\n",
    "    ),\n",
    "    'two' : pd.Series(\n",
    "        [1000, 2400, 1132, 3434], index=[1,2,3,4]\n",
    "    )\n",
    "}\n",
    "\n",
    "df = pd.DataFrame(data)\n",
    "\n",
    "print(df)"
   ]
  },
  {
   "cell_type": "code",
   "execution_count": 35,
   "metadata": {},
   "outputs": [
    {
     "name": "stdout",
     "output_type": "stream",
     "text": [
      "    Height  Weight\n",
      "0       58     115\n",
      "1       59     117\n",
      "2       60     120\n",
      "3       61     123\n",
      "4       62     126\n",
      "5       63     129\n",
      "6       64     132\n",
      "7       65     135\n",
      "8       66     139\n",
      "9       67     142\n",
      "10      68     146\n",
      "11      69     150\n",
      "12      70     153\n",
      "13      71     159\n",
      "14      72     160\n"
     ]
    }
   ],
   "source": [
    "import pandas as pd\n",
    "\n",
    "d = pd.read_csv(\"American-height-weight.csv\")\n",
    "\n",
    "print(d)"
   ]
  },
  {
   "cell_type": "code",
   "execution_count": 36,
   "metadata": {},
   "outputs": [
    {
     "name": "stdout",
     "output_type": "stream",
     "text": [
      "   Height  Weight\n",
      "0      58     115\n",
      "1      59     117\n",
      "2      60     120\n",
      "3      61     123\n",
      "4      62     126\n"
     ]
    }
   ],
   "source": [
    "import pandas as pd\n",
    "\n",
    "d = pd.read_csv(\"American-height-weight.csv\")\n",
    "\n",
    "print(d.head(5))"
   ]
  },
  {
   "cell_type": "code",
   "execution_count": 37,
   "metadata": {},
   "outputs": [
    {
     "name": "stdout",
     "output_type": "stream",
     "text": [
      "    Height  Weight\n",
      "10      68     146\n",
      "11      69     150\n",
      "12      70     153\n",
      "13      71     159\n",
      "14      72     160\n"
     ]
    }
   ],
   "source": [
    "import pandas as pd\n",
    "\n",
    "d = pd.read_csv(\"American-height-weight.csv\")\n",
    "\n",
    "print(d.tail(5))"
   ]
  },
  {
   "cell_type": "code",
   "execution_count": 39,
   "metadata": {},
   "outputs": [
    {
     "name": "stdout",
     "output_type": "stream",
     "text": [
      "30\n",
      "0     58\n",
      "1     59\n",
      "2     60\n",
      "3     61\n",
      "4     62\n",
      "5     63\n",
      "6     64\n",
      "7     65\n",
      "8     66\n",
      "9     67\n",
      "10    68\n",
      "11    69\n",
      "12    70\n",
      "13    71\n",
      "14    72\n",
      "Name: Height, dtype: int64\n"
     ]
    }
   ],
   "source": [
    "import pandas as pd\n",
    "\n",
    "d = pd.read_csv(\"American-height-weight.csv\")\n",
    "\n",
    "print(d.size)\n",
    "\n",
    "print(d['Height'])"
   ]
  },
  {
   "cell_type": "code",
   "execution_count": 48,
   "metadata": {},
   "outputs": [
    {
     "name": "stdout",
     "output_type": "stream",
     "text": [
      "    Height  Weight  height-cm\n",
      "0       58     115     147.32\n",
      "1       59     117     149.86\n",
      "2       60     120     152.40\n",
      "3       61     123     154.94\n",
      "4       62     126     157.48\n",
      "5       63     129     160.02\n",
      "6       64     132     162.56\n",
      "7       65     135     165.10\n",
      "8       66     139     167.64\n",
      "9       67     142     170.18\n",
      "10      68     146     172.72\n",
      "11      69     150     175.26\n",
      "12      70     153     177.80\n",
      "13      71     159     180.34\n",
      "14      72     160     182.88\n"
     ]
    }
   ],
   "source": [
    "import pandas as pd\n",
    "\n",
    "d = pd.read_csv(\"American-height-weight.csv\")\n",
    "\n",
    "d[\"height-cm\"] = d[\"Height\"] * 2.54\n",
    "\n",
    "print(d)"
   ]
  },
  {
   "cell_type": "code",
   "execution_count": 45,
   "metadata": {},
   "outputs": [
    {
     "name": "stdout",
     "output_type": "stream",
     "text": [
      "Height        59.00\n",
      "Weight       117.00\n",
      "height-cm    149.86\n",
      "Name: 1, dtype: float64\n"
     ]
    }
   ],
   "source": [
    "import pandas as pd\n",
    "\n",
    "d = pd.read_csv(\"American-height-weight.csv\")\n",
    "\n",
    "d[\"height-cm\"] = d[\"Height\"] * 2.54\n",
    "\n",
    "print(d.loc[1])"
   ]
  },
  {
   "cell_type": "code",
   "execution_count": 43,
   "metadata": {},
   "outputs": [
    {
     "name": "stdout",
     "output_type": "stream",
     "text": [
      "Height        59.00\n",
      "Weight       117.00\n",
      "height-cm    149.86\n",
      "Name: 1, dtype: float64 height-cm\n"
     ]
    }
   ],
   "source": [
    "print(d.loc[1], \"height-cm\")"
   ]
  },
  {
   "cell_type": "code",
   "execution_count": 44,
   "metadata": {},
   "outputs": [
    {
     "name": "stdout",
     "output_type": "stream",
     "text": [
      "    Height  Weight\n",
      "0       58     115\n",
      "1       59     117\n",
      "2       60     120\n",
      "3       61     123\n",
      "4       62     126\n",
      "5       63     129\n",
      "6       64     132\n",
      "7       65     135\n",
      "8       66     139\n",
      "9       67     142\n",
      "10      68     146\n",
      "11      69     150\n",
      "12      70     153\n",
      "13      71     159\n",
      "14      72     160\n"
     ]
    }
   ],
   "source": [
    "print(d.drop([\"height-cm\"], axis =1))\n"
   ]
  },
  {
   "cell_type": "code",
   "execution_count": 49,
   "metadata": {},
   "outputs": [
    {
     "name": "stdout",
     "output_type": "stream",
     "text": [
      "    Height  Weight\n",
      "0       58     115\n",
      "1       59     117\n",
      "2       60     120\n",
      "3       61     123\n",
      "4       62     126\n",
      "5       63     129\n",
      "6       64     132\n",
      "7       65     135\n",
      "8       66     139\n",
      "9       67     142\n",
      "10      68     146\n",
      "11      69     150\n",
      "12      70     153\n",
      "13      71     159\n",
      "14      72     160\n"
     ]
    }
   ],
   "source": [
    "d.drop([\"height-cm\"], axis=1, inplace = True)\n",
    "print(d)"
   ]
  }
 ],
 "metadata": {
  "kernelspec": {
   "display_name": "Python 3",
   "language": "python",
   "name": "python3"
  },
  "language_info": {
   "codemirror_mode": {
    "name": "ipython",
    "version": 3
   },
   "file_extension": ".py",
   "mimetype": "text/x-python",
   "name": "python",
   "nbconvert_exporter": "python",
   "pygments_lexer": "ipython3",
   "version": "3.11.2"
  },
  "orig_nbformat": 4
 },
 "nbformat": 4,
 "nbformat_minor": 2
}
