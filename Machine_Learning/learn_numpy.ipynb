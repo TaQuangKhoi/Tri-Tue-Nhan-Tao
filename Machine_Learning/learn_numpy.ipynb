{
 "cells": [
  {
   "cell_type": "code",
   "execution_count": null,
   "metadata": {},
   "outputs": [],
   "source": [
    "# Normal Array\n",
    "import numpy as np\n",
    "\n",
    "oneDimensionArr = np.array([1, 2, 3])\n",
    "\n",
    "twoDimensionArr = np.array(\n",
    "    [\n",
    "    [1,4,5],\n",
    "    [3,6,7],\n",
    "    [4,7,8]\n",
    "    ]\n",
    ")\n",
    "\n",
    "\n",
    "print('twoDimensionArr')\n",
    "print(twoDimensionArr)"
   ]
  },
  {
   "cell_type": "code",
   "execution_count": null,
   "metadata": {},
   "outputs": [],
   "source": [
    "# Special Array\n",
    "import numpy as np\n",
    "\n",
    "zeroArray = np.zeros(50)\n",
    "\n",
    "exampleArray = np.array([1,4,5])\n",
    "\n",
    "zeroArrayLikeExample = np.zeros_like(exampleArray)\n",
    "\n",
    "print(zeroArrayLikeExample)"
   ]
  },
  {
   "cell_type": "code",
   "execution_count": null,
   "metadata": {},
   "outputs": [],
   "source": [
    "# Gen array from a range\n",
    "import numpy as np\n",
    "\n",
    "rangeArray = np.arange(10)\n",
    "\n",
    "print(rangeArray)"
   ]
  },
  {
   "cell_type": "code",
   "execution_count": 4,
   "metadata": {},
   "outputs": [
    {
     "name": "stdout",
     "output_type": "stream",
     "text": [
      "size (1024,)\n",
      "[2 4 8 ... 0 0 0]\n"
     ]
    }
   ],
   "source": [
    "# Mảng các lũy thừa của 2 nhỏ 1025\n",
    "import numpy as np\n",
    "\n",
    "\n",
    "arrayBig = 2**np.arange(1, 1025, 1, int)\n",
    "\n",
    "arrayBig[arrayBig != 0]\n",
    "\n",
    "print(\"size\", arrayBig.shape)\n",
    "\n",
    "print(arrayBig)"
   ]
  },
  {
   "cell_type": "code",
   "execution_count": null,
   "metadata": {},
   "outputs": [],
   "source": [
    "# Array, 9-3,10-1.5\n",
    "import numpy as np\n",
    "\n",
    "print(np.append(np.full_like(np.zeros(9), 3), 1.5))"
   ]
  },
  {
   "cell_type": "code",
   "execution_count": null,
   "metadata": {},
   "outputs": [],
   "source": [
    "# Change value of many elements\n",
    "import numpy as np\n",
    "\n",
    "a = np.array([1,3,5])\n",
    "\n",
    "a[0:] = 2\n",
    "\n",
    "print(a)"
   ]
  },
  {
   "cell_type": "code",
   "execution_count": 32,
   "metadata": {},
   "outputs": [
    {
     "name": "stdout",
     "output_type": "stream",
     "text": [
      "[ 2.  -1.   1.5 -1.   1.  -1.   0.5 -1.   0.  -1. ]\n"
     ]
    }
   ],
   "source": [
    "# n phần tử, chỉ số chẳn => phần tử cấp số cộng bắt đầu từ 2, d = -0.5\n",
    "import numpy as np\n",
    "\n",
    "n = 100\n",
    "\n",
    "a = np.arange(2, -n/2+2, -0.5)\n",
    "b = np.full_like(np.zeros(n), -1)\n",
    "c = np.dstack((a, b))[0]\n",
    "result= c.flatten()[0:10]\n",
    "\n",
    "print(result)"
   ]
  },
  {
   "cell_type": "code",
   "execution_count": null,
   "metadata": {},
   "outputs": [],
   "source": [
    "# Norm of vetor\n",
    "import numpy as np\n",
    "from numpy import linalg as LA\n",
    "\n",
    "pointA = np.array([2,3])\n",
    "pointB = np.array([2,1])\n",
    "\n",
    "\n",
    "\n"
   ]
  },
  {
   "cell_type": "markdown",
   "metadata": {},
   "source": [
    "# "
   ]
  }
 ],
 "metadata": {
  "kernelspec": {
   "display_name": "base",
   "language": "python",
   "name": "python3"
  },
  "language_info": {
   "codemirror_mode": {
    "name": "ipython",
    "version": 3
   },
   "file_extension": ".py",
   "mimetype": "text/x-python",
   "name": "python",
   "nbconvert_exporter": "python",
   "pygments_lexer": "ipython3",
   "version": "3.9.12"
  },
  "orig_nbformat": 4
 },
 "nbformat": 4,
 "nbformat_minor": 2
}
