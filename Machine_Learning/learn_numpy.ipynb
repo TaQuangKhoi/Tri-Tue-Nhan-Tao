{
 "cells": [
  {
   "cell_type": "code",
   "execution_count": null,
   "metadata": {},
   "outputs": [],
   "source": [
    "# Normal Array\n",
    "import numpy as np\n",
    "\n",
    "oneDimensionArr = np.array([1, 2, 3])\n",
    "\n",
    "twoDimensionArr = np.array(\n",
    "    [\n",
    "    [1,4,5],\n",
    "    [3,6,7],\n",
    "    [4,7,8]\n",
    "    ]\n",
    ")\n",
    "\n",
    "\n",
    "print('twoDimensionArr')\n",
    "print(twoDimensionArr)"
   ]
  },
  {
   "cell_type": "code",
   "execution_count": null,
   "metadata": {},
   "outputs": [],
   "source": [
    "# Special Array\n",
    "import numpy as np\n",
    "\n",
    "zeroArray = np.zeros(50)\n",
    "\n",
    "exampleArray = np.array([1,4,5])\n",
    "\n",
    "zeroArrayLikeExample = np.zeros_like(exampleArray)\n",
    "\n",
    "print(zeroArrayLikeExample)"
   ]
  },
  {
   "cell_type": "code",
   "execution_count": null,
   "metadata": {},
   "outputs": [],
   "source": [
    "# Gen array from a range\n",
    "import numpy as np\n",
    "\n",
    "rangeArray = np.arange(10)\n",
    "\n",
    "print(rangeArray)"
   ]
  },
  {
   "cell_type": "code",
   "execution_count": null,
   "metadata": {},
   "outputs": [],
   "source": [
    "# Mảng các lũy thừa của 2 nhỏ 1025\n",
    "\n",
    "\n",
    "arrayBig = np.arange(1, 1025)\n",
    "\n"
   ]
  },
  {
   "cell_type": "code",
   "execution_count": null,
   "metadata": {},
   "outputs": [],
   "source": [
    "# Array, 9-3,10-1.5\n",
    "import numpy as np\n",
    "\n",
    "print(np.append(np.full_like(np.zeros(9), 3), 1.5))"
   ]
  }
 ],
 "metadata": {
  "language_info": {
   "name": "python"
  },
  "orig_nbformat": 4
 },
 "nbformat": 4,
 "nbformat_minor": 2
}
