{
 "cells": [
  {
   "cell_type": "code",
   "execution_count": 2,
   "metadata": {
    "collapsed": false,
    "ExecuteTime": {
     "end_time": "2023-06-30T02:33:23.969292700Z",
     "start_time": "2023-06-30T02:33:23.707707Z"
    }
   },
   "outputs": [
    {
     "name": "stdout",
     "output_type": "stream",
     "text": [
      "Predict:  apple\n"
     ]
    }
   ],
   "source": [
    "from sklearn import tree\n",
    "# Đoán táo\n",
    "\n",
    "features = [\n",
    "    [150, 0],\n",
    "    [170, 0],\n",
    "    [140, 1],\n",
    "    [130, 1],\n",
    "]\n",
    "\n",
    "labels = [\n",
    "    0, 0, # orange\n",
    "    1, 1, # apple\n",
    "]\n",
    "\n",
    "fruit = [\"orange\", \"apple\"]\n",
    "\n",
    "clf = tree.DecisionTreeClassifier()\n",
    "clf = clf.fit(features, labels)\n",
    "predict = clf.predict([[130, 1]])\n",
    "print(\"Predict: \", fruit[predict[0]])"
   ]
  },
  {
   "cell_type": "code",
   "execution_count": 3,
   "metadata": {
    "collapsed": false,
    "ExecuteTime": {
     "end_time": "2023-06-30T02:33:23.970681500Z",
     "start_time": "2023-06-30T02:33:23.955474300Z"
    }
   },
   "outputs": [
    {
     "name": "stdout",
     "output_type": "stream",
     "text": [
      "Predict:  minivan\n"
     ]
    }
   ],
   "source": [
    "# Đoán xe\n",
    "featuresCar = [\n",
    "    [300, 2],\n",
    "    [450, 2],\n",
    "    [200, 8],\n",
    "    [150, 9]\n",
    "]\n",
    "\n",
    "labelsCar = [0, 0, 1, 1]\n",
    "\n",
    "car = [\"sport car\", \"minivan\"]\n",
    "\n",
    "clfCar = tree.DecisionTreeClassifier()\n",
    "clfCar = clfCar.fit(featuresCar, labelsCar)\n",
    "\n",
    "predictCar = clf.predict([[160, 8]])\n",
    "\n",
    "print(\"Predict: \", car[predictCar[0]])"
   ]
  },
  {
   "cell_type": "code",
   "execution_count": 4,
   "metadata": {
    "collapsed": false,
    "ExecuteTime": {
     "end_time": "2023-06-30T02:33:24.140050800Z",
     "start_time": "2023-06-30T02:33:23.966981100Z"
    }
   },
   "outputs": [
    {
     "name": "stdout",
     "output_type": "stream",
     "text": [
      "Features:  [5.1 3.5 1.4 0.2]\n",
      "Label:  0\n",
      "Iris type:  setosa\n",
      "\n",
      "Predict labels:  0\n",
      "Predict iris type:  setosa\n",
      "\n",
      "Test target:  [0 0 0 0 0 0 1 1 1 1 1 2 2 2 2 2]\n",
      "\n",
      "Predict:  [0 0 0 0 0 0 1 1 1 1 1 2 1 1 2 2]\n"
     ]
    }
   ],
   "source": [
    "# Phân biệt 3 loại hoa lan sử dụng cây quyết định\n",
    "\n",
    "import numpy as np\n",
    "from sklearn.datasets import load_iris\n",
    "\n",
    "iris = load_iris()\n",
    "\n",
    "# Print iris as table\n",
    "# print(iris.feature_names)\n",
    "# print(iris)\n",
    "# Print iris dataset information\n",
    "# print(iris.DESCR)\n",
    "\n",
    "test_idx = [0, 9, 19, 29, 39, 49, 59, 69, 79, 89, 99, 109, 119, 129, 139, 149]\n",
    "\n",
    "# Get training data\n",
    "train_target = np.delete(iris.target, test_idx) # Remove test data from target data set, because there is no axis, so it will remove all data with index in test_idx\n",
    "\n",
    "# print(iris.target_names)\n",
    "# print(iris.target)\n",
    "# print(train_target)\n",
    "train_data = np.delete(iris.data, test_idx, axis=0)\n",
    "# print(train_data)\n",
    "\n",
    "# Get testing data\n",
    "test_target = iris.target[test_idx]\n",
    "# print(test_target)\n",
    "\n",
    "test_data = iris.data[test_idx]\n",
    "# print(test_data)\n",
    "\n",
    "irisClassifier = tree.DecisionTreeClassifier()\n",
    "irisClassifier = irisClassifier.fit(train_data, train_target)\n",
    "predict = irisClassifier.predict(test_data)\n",
    "\n",
    "# 1st testing data\n",
    "print(\"Features: \", test_data[0])\n",
    "print(\"Label: \", test_target[0])\n",
    "print(\"Iris type: \", iris.target_names[test_target[0]])\n",
    "\n",
    "# 1st testing data's predict result\n",
    "print(\"\\nPredict labels: \", predict[0])\n",
    "print(\"Predict iris type: \", iris.target_names[predict[0]])\n",
    "\n",
    "# Testing target label\n",
    "print(\"\\nTest target: \", test_target)\n",
    "\n",
    "# Predict label\n",
    "print(\"\\nPredict: \", predict)"
   ]
  },
  {
   "cell_type": "markdown",
   "source": [
    "# Kiểm tra độ chính xác của thuật toán"
   ],
   "metadata": {
    "collapsed": false
   }
  },
  {
   "cell_type": "code",
   "execution_count": 7,
   "outputs": [
    {
     "name": "stdout",
     "output_type": "stream",
     "text": [
      "Accuracy of Tree Decision with K=1:  87.5 %\n"
     ]
    }
   ],
   "source": [
    "from sklearn.metrics import accuracy_score\n",
    "accuracy = 100 * accuracy_score(test_target, predict)\n",
    "print(\"Accuracy of Tree Decision with K=1: \", accuracy, \"%\")"
   ],
   "metadata": {
    "collapsed": false,
    "ExecuteTime": {
     "end_time": "2023-06-30T02:33:37.497285600Z",
     "start_time": "2023-06-30T02:33:37.463136400Z"
    }
   }
  },
  {
   "cell_type": "code",
   "execution_count": 6,
   "outputs": [],
   "source": [
    "# Vẽ sơ đồ cây quyết định phân loại hoa lan.\n",
    "\n",
    "# from six import StringIO\n",
    "# import pydot\n",
    "# dot_data = StringIO()\n",
    "# tree.export_graphviz(irisClassifier, out_file=dot_data,\n",
    "#                      feature_names=iris.feature_names,\n",
    "#                      class_names=iris.target_names,\n",
    "#                      filled=True, rounded=True,\n",
    "#                      impurity=False)\n",
    "#\n",
    "# graph = pydot.graph_from_dot_data(dot_data.getvalue())\n",
    "# graph[0].write_pdf(\"iris.pdf\")"
   ],
   "metadata": {
    "collapsed": false,
    "ExecuteTime": {
     "end_time": "2023-06-30T02:33:24.255033700Z",
     "start_time": "2023-06-30T02:33:24.153410Z"
    }
   }
  }
 ],
 "metadata": {
  "kernelspec": {
   "display_name": "Python 3",
   "language": "python",
   "name": "python3"
  },
  "language_info": {
   "codemirror_mode": {
    "name": "ipython",
    "version": 2
   },
   "file_extension": ".py",
   "mimetype": "text/x-python",
   "name": "python",
   "nbconvert_exporter": "python",
   "pygments_lexer": "ipython2",
   "version": "2.7.6"
  }
 },
 "nbformat": 4,
 "nbformat_minor": 0
}
