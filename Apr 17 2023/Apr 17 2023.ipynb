{
 "cells": [
  {
   "cell_type": "code",
   "execution_count": 17,
   "outputs": [
    {
     "name": "stdout",
     "output_type": "stream",
     "text": [
      "Predict:  apple\n"
     ]
    }
   ],
   "source": [
    "from sklearn import tree\n",
    "\n",
    "features = [\n",
    "    [150, 0],\n",
    "    [170, 0],\n",
    "    [140, 1],\n",
    "    [130, 1],\n",
    "]\n",
    "\n",
    "labels = [\n",
    "    0, 0,\n",
    "    1, 1,\n",
    "]\n",
    "\n",
    "fruit = [\"orange\", \"apple\"]\n",
    "\n",
    "clf = tree.DecisionTreeClassifier()\n",
    "clf = clf.fit(features, labels)\n",
    "predict = clf.predict([[140, 1]])\n",
    "print(\"Predict: \", fruit[predict[0]])"
   ],
   "metadata": {
    "collapsed": false,
    "ExecuteTime": {
     "start_time": "2023-04-17T08:38:08.610842Z",
     "end_time": "2023-04-17T08:38:08.629915Z"
    }
   }
  }
 ],
 "metadata": {
  "kernelspec": {
   "display_name": "Python 3",
   "language": "python",
   "name": "python3"
  },
  "language_info": {
   "codemirror_mode": {
    "name": "ipython",
    "version": 2
   },
   "file_extension": ".py",
   "mimetype": "text/x-python",
   "name": "python",
   "nbconvert_exporter": "python",
   "pygments_lexer": "ipython2",
   "version": "2.7.6"
  }
 },
 "nbformat": 4,
 "nbformat_minor": 0
}
