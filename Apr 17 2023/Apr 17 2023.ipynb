{
 "cells": [
  {
   "cell_type": "code",
   "execution_count": 23,
   "metadata": {
    "ExecuteTime": {
     "end_time": "2023-04-17T09:29:27.545490Z",
     "start_time": "2023-04-17T09:29:27.527830Z"
    },
    "collapsed": false
   },
   "outputs": [
    {
     "name": "stdout",
     "output_type": "stream",
     "text": [
      "Predict:  apple\n"
     ]
    }
   ],
   "source": [
    "from sklearn import tree\n",
    "# Đoán táo\n",
    "\n",
    "features = [\n",
    "    [150, 0],\n",
    "    [170, 0],\n",
    "    [140, 1],\n",
    "    [130, 1],\n",
    "]\n",
    "\n",
    "labels = [\n",
    "    0, 0, # orange\n",
    "    1, 1, # apple\n",
    "]\n",
    "\n",
    "fruit = [\"orange\", \"apple\"]\n",
    "\n",
    "clf = tree.DecisionTreeClassifier()\n",
    "clf = clf.fit(features, labels)\n",
    "predict = clf.predict([[130, 1]])\n",
    "print(\"Predict: \", fruit[predict[0]])"
   ]
  },
  {
   "cell_type": "code",
   "execution_count": 26,
   "metadata": {
    "ExecuteTime": {
     "end_time": "2023-04-17T09:30:12.389157Z",
     "start_time": "2023-04-17T09:30:12.382680Z"
    },
    "collapsed": false
   },
   "outputs": [
    {
     "name": "stdout",
     "output_type": "stream",
     "text": [
      "Predict:  minivan\n"
     ]
    }
   ],
   "source": [
    "# Đoán xe\n",
    "featuresCar = [\n",
    "    [300, 2],\n",
    "    [450, 2],\n",
    "    [200, 8],\n",
    "    [150, 9]\n",
    "]\n",
    "\n",
    "labelsCar = [0, 0, 1, 1]\n",
    "\n",
    "car = [\"sport car\", \"minivan\"]\n",
    "\n",
    "clfCar = tree.DecisionTreeClassifier()\n",
    "clfCar = clfCar.fit(featuresCar, labelsCar)\n",
    "\n",
    "predictCar = clf.predict([[160, 8]])\n",
    "\n",
    "print(\"Predict: \", car[predictCar[0]])"
   ]
  },
  {
   "cell_type": "code",
   "execution_count": 66,
   "metadata": {
    "ExecuteTime": {
     "start_time": "2023-04-17T10:11:46.917664Z",
     "end_time": "2023-04-17T10:11:46.930514Z"
    },
    "collapsed": false
   },
   "outputs": [
    {
     "name": "stdout",
     "output_type": "stream",
     "text": [
      "Features:  [5.1 3.5 1.4 0.2]\n",
      "Label:  0\n",
      "Iris type:  setosa\n",
      "\n",
      "Predict labels:  0\n",
      "Predict iris type:  setosa\n",
      "\n",
      "Test target:  [0 0 0 0 0 0 1 1 1 1 1 2 2 2 2 2]\n",
      "\n",
      "Predict:  [0 0 0 0 0 0 1 1 1 1 1 2 1 2 2 2]\n"
     ]
    }
   ],
   "source": [
    "# Phân biệt 3 loại hoa lan sử dụng cây quyết định\n",
    "\n",
    "import numpy as np\n",
    "from sklearn.datasets import load_iris\n",
    "\n",
    "iris = load_iris()\n",
    "\n",
    "# Print iris as table\n",
    "# print(iris.feature_names)\n",
    "# print(iris)\n",
    "# Print iris dataset information\n",
    "# print(iris.DESCR)\n",
    "\n",
    "test_idx = [0, 9, 19, 29, 39, 49, 59, 69, 79, 89, 99, 109, 119, 129, 139, 149]\n",
    "\n",
    "# Get training data\n",
    "train_target = np.delete(iris.target, test_idx) # Remove test data from target data set, because there is no axis, so it will remove all data with index in test_idx\n",
    "# print(iris.target_names)\n",
    "# print(iris.target)\n",
    "# print(train_target)\n",
    "train_data = np.delete(iris.data, test_idx, axis=0)\n",
    "# print(train_data)\n",
    "\n",
    "# Get testing data\n",
    "test_target = iris.target[test_idx]\n",
    "# print(test_target)\n",
    "\n",
    "test_data = iris.data[test_idx]\n",
    "# print(test_data)\n",
    "\n",
    "irisClassifier = tree.DecisionTreeClassifier()\n",
    "irisClassifier = irisClassifier.fit(train_data, train_target)\n",
    "predict = irisClassifier.predict(test_data)\n",
    "\n",
    "# 1st testing data\n",
    "print(\"Features: \", test_data[0])\n",
    "print(\"Label: \", test_target[0])\n",
    "print(\"Iris type: \", iris.target_names[test_target[0]])\n",
    "\n",
    "# 1st testing data's predict result\n",
    "print(\"\\nPredict labels: \", predict[0])\n",
    "print(\"Predict iris type: \", iris.target_names[predict[0]])\n",
    "\n",
    "# Testing target label\n",
    "print(\"\\nTest target: \", test_target)\n",
    "\n",
    "# Predict label\n",
    "print(\"\\nPredict: \", predict)"
   ]
  },
  {
   "cell_type": "code",
   "execution_count": 78,
   "outputs": [
    {
     "ename": "FileNotFoundError",
     "evalue": "[WinError 2] \"dot\" not found in path.",
     "output_type": "error",
     "traceback": [
      "\u001B[1;31m---------------------------------------------------------------------------\u001B[0m",
      "\u001B[1;31mFileNotFoundError\u001B[0m                         Traceback (most recent call last)",
      "File \u001B[1;32m~\\AppData\\Local\\Programs\\Python\\Python311\\Lib\\site-packages\\pydot.py:1923\u001B[0m, in \u001B[0;36mDot.create\u001B[1;34m(self, prog, format, encoding)\u001B[0m\n\u001B[0;32m   1922\u001B[0m \u001B[38;5;28;01mtry\u001B[39;00m:\n\u001B[1;32m-> 1923\u001B[0m     stdout_data, stderr_data, process \u001B[38;5;241m=\u001B[39m \u001B[43mcall_graphviz\u001B[49m\u001B[43m(\u001B[49m\n\u001B[0;32m   1924\u001B[0m \u001B[43m        \u001B[49m\u001B[43mprogram\u001B[49m\u001B[38;5;241;43m=\u001B[39;49m\u001B[43mprog\u001B[49m\u001B[43m,\u001B[49m\n\u001B[0;32m   1925\u001B[0m \u001B[43m        \u001B[49m\u001B[43marguments\u001B[49m\u001B[38;5;241;43m=\u001B[39;49m\u001B[43marguments\u001B[49m\u001B[43m,\u001B[49m\n\u001B[0;32m   1926\u001B[0m \u001B[43m        \u001B[49m\u001B[43mworking_dir\u001B[49m\u001B[38;5;241;43m=\u001B[39;49m\u001B[43mtmp_dir\u001B[49m\u001B[43m,\u001B[49m\n\u001B[0;32m   1927\u001B[0m \u001B[43m    \u001B[49m\u001B[43m)\u001B[49m\n\u001B[0;32m   1928\u001B[0m \u001B[38;5;28;01mexcept\u001B[39;00m \u001B[38;5;167;01mOSError\u001B[39;00m \u001B[38;5;28;01mas\u001B[39;00m e:\n",
      "File \u001B[1;32m~\\AppData\\Local\\Programs\\Python\\Python311\\Lib\\site-packages\\pydot.py:132\u001B[0m, in \u001B[0;36mcall_graphviz\u001B[1;34m(program, arguments, working_dir, **kwargs)\u001B[0m\n\u001B[0;32m    130\u001B[0m program_with_args \u001B[38;5;241m=\u001B[39m [program, ] \u001B[38;5;241m+\u001B[39m arguments\n\u001B[1;32m--> 132\u001B[0m process \u001B[38;5;241m=\u001B[39m \u001B[43msubprocess\u001B[49m\u001B[38;5;241;43m.\u001B[39;49m\u001B[43mPopen\u001B[49m\u001B[43m(\u001B[49m\n\u001B[0;32m    133\u001B[0m \u001B[43m    \u001B[49m\u001B[43mprogram_with_args\u001B[49m\u001B[43m,\u001B[49m\n\u001B[0;32m    134\u001B[0m \u001B[43m    \u001B[49m\u001B[43menv\u001B[49m\u001B[38;5;241;43m=\u001B[39;49m\u001B[43menv\u001B[49m\u001B[43m,\u001B[49m\n\u001B[0;32m    135\u001B[0m \u001B[43m    \u001B[49m\u001B[43mcwd\u001B[49m\u001B[38;5;241;43m=\u001B[39;49m\u001B[43mworking_dir\u001B[49m\u001B[43m,\u001B[49m\n\u001B[0;32m    136\u001B[0m \u001B[43m    \u001B[49m\u001B[43mshell\u001B[49m\u001B[38;5;241;43m=\u001B[39;49m\u001B[38;5;28;43;01mFalse\u001B[39;49;00m\u001B[43m,\u001B[49m\n\u001B[0;32m    137\u001B[0m \u001B[43m    \u001B[49m\u001B[43mstderr\u001B[49m\u001B[38;5;241;43m=\u001B[39;49m\u001B[43msubprocess\u001B[49m\u001B[38;5;241;43m.\u001B[39;49m\u001B[43mPIPE\u001B[49m\u001B[43m,\u001B[49m\n\u001B[0;32m    138\u001B[0m \u001B[43m    \u001B[49m\u001B[43mstdout\u001B[49m\u001B[38;5;241;43m=\u001B[39;49m\u001B[43msubprocess\u001B[49m\u001B[38;5;241;43m.\u001B[39;49m\u001B[43mPIPE\u001B[49m\u001B[43m,\u001B[49m\n\u001B[0;32m    139\u001B[0m \u001B[43m    \u001B[49m\u001B[38;5;241;43m*\u001B[39;49m\u001B[38;5;241;43m*\u001B[39;49m\u001B[43mkwargs\u001B[49m\n\u001B[0;32m    140\u001B[0m \u001B[43m\u001B[49m\u001B[43m)\u001B[49m\n\u001B[0;32m    141\u001B[0m stdout_data, stderr_data \u001B[38;5;241m=\u001B[39m process\u001B[38;5;241m.\u001B[39mcommunicate()\n",
      "File \u001B[1;32m~\\AppData\\Local\\Programs\\Python\\Python311\\Lib\\subprocess.py:1024\u001B[0m, in \u001B[0;36mPopen.__init__\u001B[1;34m(self, args, bufsize, executable, stdin, stdout, stderr, preexec_fn, close_fds, shell, cwd, env, universal_newlines, startupinfo, creationflags, restore_signals, start_new_session, pass_fds, user, group, extra_groups, encoding, errors, text, umask, pipesize, process_group)\u001B[0m\n\u001B[0;32m   1021\u001B[0m             \u001B[38;5;28mself\u001B[39m\u001B[38;5;241m.\u001B[39mstderr \u001B[38;5;241m=\u001B[39m io\u001B[38;5;241m.\u001B[39mTextIOWrapper(\u001B[38;5;28mself\u001B[39m\u001B[38;5;241m.\u001B[39mstderr,\n\u001B[0;32m   1022\u001B[0m                     encoding\u001B[38;5;241m=\u001B[39mencoding, errors\u001B[38;5;241m=\u001B[39merrors)\n\u001B[1;32m-> 1024\u001B[0m     \u001B[38;5;28;43mself\u001B[39;49m\u001B[38;5;241;43m.\u001B[39;49m\u001B[43m_execute_child\u001B[49m\u001B[43m(\u001B[49m\u001B[43margs\u001B[49m\u001B[43m,\u001B[49m\u001B[43m \u001B[49m\u001B[43mexecutable\u001B[49m\u001B[43m,\u001B[49m\u001B[43m \u001B[49m\u001B[43mpreexec_fn\u001B[49m\u001B[43m,\u001B[49m\u001B[43m \u001B[49m\u001B[43mclose_fds\u001B[49m\u001B[43m,\u001B[49m\n\u001B[0;32m   1025\u001B[0m \u001B[43m                        \u001B[49m\u001B[43mpass_fds\u001B[49m\u001B[43m,\u001B[49m\u001B[43m \u001B[49m\u001B[43mcwd\u001B[49m\u001B[43m,\u001B[49m\u001B[43m \u001B[49m\u001B[43menv\u001B[49m\u001B[43m,\u001B[49m\n\u001B[0;32m   1026\u001B[0m \u001B[43m                        \u001B[49m\u001B[43mstartupinfo\u001B[49m\u001B[43m,\u001B[49m\u001B[43m \u001B[49m\u001B[43mcreationflags\u001B[49m\u001B[43m,\u001B[49m\u001B[43m \u001B[49m\u001B[43mshell\u001B[49m\u001B[43m,\u001B[49m\n\u001B[0;32m   1027\u001B[0m \u001B[43m                        \u001B[49m\u001B[43mp2cread\u001B[49m\u001B[43m,\u001B[49m\u001B[43m \u001B[49m\u001B[43mp2cwrite\u001B[49m\u001B[43m,\u001B[49m\n\u001B[0;32m   1028\u001B[0m \u001B[43m                        \u001B[49m\u001B[43mc2pread\u001B[49m\u001B[43m,\u001B[49m\u001B[43m \u001B[49m\u001B[43mc2pwrite\u001B[49m\u001B[43m,\u001B[49m\n\u001B[0;32m   1029\u001B[0m \u001B[43m                        \u001B[49m\u001B[43merrread\u001B[49m\u001B[43m,\u001B[49m\u001B[43m \u001B[49m\u001B[43merrwrite\u001B[49m\u001B[43m,\u001B[49m\n\u001B[0;32m   1030\u001B[0m \u001B[43m                        \u001B[49m\u001B[43mrestore_signals\u001B[49m\u001B[43m,\u001B[49m\n\u001B[0;32m   1031\u001B[0m \u001B[43m                        \u001B[49m\u001B[43mgid\u001B[49m\u001B[43m,\u001B[49m\u001B[43m \u001B[49m\u001B[43mgids\u001B[49m\u001B[43m,\u001B[49m\u001B[43m \u001B[49m\u001B[43muid\u001B[49m\u001B[43m,\u001B[49m\u001B[43m \u001B[49m\u001B[43mumask\u001B[49m\u001B[43m,\u001B[49m\n\u001B[0;32m   1032\u001B[0m \u001B[43m                        \u001B[49m\u001B[43mstart_new_session\u001B[49m\u001B[43m,\u001B[49m\u001B[43m \u001B[49m\u001B[43mprocess_group\u001B[49m\u001B[43m)\u001B[49m\n\u001B[0;32m   1033\u001B[0m \u001B[38;5;28;01mexcept\u001B[39;00m:\n\u001B[0;32m   1034\u001B[0m     \u001B[38;5;66;03m# Cleanup if the child failed starting.\u001B[39;00m\n",
      "File \u001B[1;32m~\\AppData\\Local\\Programs\\Python\\Python311\\Lib\\subprocess.py:1493\u001B[0m, in \u001B[0;36mPopen._execute_child\u001B[1;34m(self, args, executable, preexec_fn, close_fds, pass_fds, cwd, env, startupinfo, creationflags, shell, p2cread, p2cwrite, c2pread, c2pwrite, errread, errwrite, unused_restore_signals, unused_gid, unused_gids, unused_uid, unused_umask, unused_start_new_session, unused_process_group)\u001B[0m\n\u001B[0;32m   1492\u001B[0m \u001B[38;5;28;01mtry\u001B[39;00m:\n\u001B[1;32m-> 1493\u001B[0m     hp, ht, pid, tid \u001B[38;5;241m=\u001B[39m \u001B[43m_winapi\u001B[49m\u001B[38;5;241;43m.\u001B[39;49m\u001B[43mCreateProcess\u001B[49m\u001B[43m(\u001B[49m\u001B[43mexecutable\u001B[49m\u001B[43m,\u001B[49m\u001B[43m \u001B[49m\u001B[43margs\u001B[49m\u001B[43m,\u001B[49m\n\u001B[0;32m   1494\u001B[0m \u001B[43m                             \u001B[49m\u001B[38;5;66;43;03m# no special security\u001B[39;49;00m\n\u001B[0;32m   1495\u001B[0m \u001B[43m                             \u001B[49m\u001B[38;5;28;43;01mNone\u001B[39;49;00m\u001B[43m,\u001B[49m\u001B[43m \u001B[49m\u001B[38;5;28;43;01mNone\u001B[39;49;00m\u001B[43m,\u001B[49m\n\u001B[0;32m   1496\u001B[0m \u001B[43m                             \u001B[49m\u001B[38;5;28;43mint\u001B[39;49m\u001B[43m(\u001B[49m\u001B[38;5;129;43;01mnot\u001B[39;49;00m\u001B[43m \u001B[49m\u001B[43mclose_fds\u001B[49m\u001B[43m)\u001B[49m\u001B[43m,\u001B[49m\n\u001B[0;32m   1497\u001B[0m \u001B[43m                             \u001B[49m\u001B[43mcreationflags\u001B[49m\u001B[43m,\u001B[49m\n\u001B[0;32m   1498\u001B[0m \u001B[43m                             \u001B[49m\u001B[43menv\u001B[49m\u001B[43m,\u001B[49m\n\u001B[0;32m   1499\u001B[0m \u001B[43m                             \u001B[49m\u001B[43mcwd\u001B[49m\u001B[43m,\u001B[49m\n\u001B[0;32m   1500\u001B[0m \u001B[43m                             \u001B[49m\u001B[43mstartupinfo\u001B[49m\u001B[43m)\u001B[49m\n\u001B[0;32m   1501\u001B[0m \u001B[38;5;28;01mfinally\u001B[39;00m:\n\u001B[0;32m   1502\u001B[0m     \u001B[38;5;66;03m# Child is launched. Close the parent's copy of those pipe\u001B[39;00m\n\u001B[0;32m   1503\u001B[0m     \u001B[38;5;66;03m# handles that only the child should have open.  You need\u001B[39;00m\n\u001B[1;32m   (...)\u001B[0m\n\u001B[0;32m   1506\u001B[0m     \u001B[38;5;66;03m# pipe will not close when the child process exits and the\u001B[39;00m\n\u001B[0;32m   1507\u001B[0m     \u001B[38;5;66;03m# ReadFile will hang.\u001B[39;00m\n",
      "\u001B[1;31mFileNotFoundError\u001B[0m: [WinError 2] The system cannot find the file specified",
      "\nDuring handling of the above exception, another exception occurred:\n",
      "\u001B[1;31mFileNotFoundError\u001B[0m                         Traceback (most recent call last)",
      "Cell \u001B[1;32mIn[78], line 13\u001B[0m\n\u001B[0;32m      6\u001B[0m tree\u001B[38;5;241m.\u001B[39mexport_graphviz(irisClassifier, out_file\u001B[38;5;241m=\u001B[39mdot_data,\n\u001B[0;32m      7\u001B[0m                      feature_names\u001B[38;5;241m=\u001B[39miris\u001B[38;5;241m.\u001B[39mfeature_names,\n\u001B[0;32m      8\u001B[0m                      class_names\u001B[38;5;241m=\u001B[39miris\u001B[38;5;241m.\u001B[39mtarget_names,\n\u001B[0;32m      9\u001B[0m                      filled\u001B[38;5;241m=\u001B[39m\u001B[38;5;28;01mTrue\u001B[39;00m, rounded\u001B[38;5;241m=\u001B[39m\u001B[38;5;28;01mTrue\u001B[39;00m,\n\u001B[0;32m     10\u001B[0m                      impurity\u001B[38;5;241m=\u001B[39m\u001B[38;5;28;01mFalse\u001B[39;00m)\n\u001B[0;32m     12\u001B[0m graph \u001B[38;5;241m=\u001B[39m pydot\u001B[38;5;241m.\u001B[39mgraph_from_dot_data(dot_data\u001B[38;5;241m.\u001B[39mgetvalue())\n\u001B[1;32m---> 13\u001B[0m \u001B[43mgraph\u001B[49m\u001B[43m[\u001B[49m\u001B[38;5;241;43m0\u001B[39;49m\u001B[43m]\u001B[49m\u001B[38;5;241;43m.\u001B[39;49m\u001B[43mwrite_pdf\u001B[49m\u001B[43m(\u001B[49m\u001B[38;5;124;43m\"\u001B[39;49m\u001B[38;5;124;43miris.pdf\u001B[39;49m\u001B[38;5;124;43m\"\u001B[39;49m\u001B[43m)\u001B[49m\n",
      "File \u001B[1;32m~\\AppData\\Local\\Programs\\Python\\Python311\\Lib\\site-packages\\pydot.py:1743\u001B[0m, in \u001B[0;36mDot.__init__.<locals>.new_method\u001B[1;34m(path, f, prog, encoding)\u001B[0m\n\u001B[0;32m   1739\u001B[0m \u001B[38;5;28;01mdef\u001B[39;00m \u001B[38;5;21mnew_method\u001B[39m(\n\u001B[0;32m   1740\u001B[0m         path, f\u001B[38;5;241m=\u001B[39mfrmt, prog\u001B[38;5;241m=\u001B[39m\u001B[38;5;28mself\u001B[39m\u001B[38;5;241m.\u001B[39mprog,\n\u001B[0;32m   1741\u001B[0m         encoding\u001B[38;5;241m=\u001B[39m\u001B[38;5;28;01mNone\u001B[39;00m):\n\u001B[0;32m   1742\u001B[0m     \u001B[38;5;124;03m\"\"\"Refer to docstring of method `write.`\"\"\"\u001B[39;00m\n\u001B[1;32m-> 1743\u001B[0m     \u001B[38;5;28;43mself\u001B[39;49m\u001B[38;5;241;43m.\u001B[39;49m\u001B[43mwrite\u001B[49m\u001B[43m(\u001B[49m\n\u001B[0;32m   1744\u001B[0m \u001B[43m        \u001B[49m\u001B[43mpath\u001B[49m\u001B[43m,\u001B[49m\u001B[43m \u001B[49m\u001B[38;5;28;43mformat\u001B[39;49m\u001B[38;5;241;43m=\u001B[39;49m\u001B[43mf\u001B[49m\u001B[43m,\u001B[49m\u001B[43m \u001B[49m\u001B[43mprog\u001B[49m\u001B[38;5;241;43m=\u001B[39;49m\u001B[43mprog\u001B[49m\u001B[43m,\u001B[49m\n\u001B[0;32m   1745\u001B[0m \u001B[43m        \u001B[49m\u001B[43mencoding\u001B[49m\u001B[38;5;241;43m=\u001B[39;49m\u001B[43mencoding\u001B[49m\u001B[43m)\u001B[49m\n",
      "File \u001B[1;32m~\\AppData\\Local\\Programs\\Python\\Python311\\Lib\\site-packages\\pydot.py:1828\u001B[0m, in \u001B[0;36mDot.write\u001B[1;34m(self, path, prog, format, encoding)\u001B[0m\n\u001B[0;32m   1826\u001B[0m         f\u001B[38;5;241m.\u001B[39mwrite(s)\n\u001B[0;32m   1827\u001B[0m \u001B[38;5;28;01melse\u001B[39;00m:\n\u001B[1;32m-> 1828\u001B[0m     s \u001B[38;5;241m=\u001B[39m \u001B[38;5;28;43mself\u001B[39;49m\u001B[38;5;241;43m.\u001B[39;49m\u001B[43mcreate\u001B[49m\u001B[43m(\u001B[49m\u001B[43mprog\u001B[49m\u001B[43m,\u001B[49m\u001B[43m \u001B[49m\u001B[38;5;28;43mformat\u001B[39;49m\u001B[43m,\u001B[49m\u001B[43m \u001B[49m\u001B[43mencoding\u001B[49m\u001B[38;5;241;43m=\u001B[39;49m\u001B[43mencoding\u001B[49m\u001B[43m)\u001B[49m\n\u001B[0;32m   1829\u001B[0m     \u001B[38;5;28;01mwith\u001B[39;00m io\u001B[38;5;241m.\u001B[39mopen(path, mode\u001B[38;5;241m=\u001B[39m\u001B[38;5;124m'\u001B[39m\u001B[38;5;124mwb\u001B[39m\u001B[38;5;124m'\u001B[39m) \u001B[38;5;28;01mas\u001B[39;00m f:\n\u001B[0;32m   1830\u001B[0m         f\u001B[38;5;241m.\u001B[39mwrite(s)\n",
      "File \u001B[1;32m~\\AppData\\Local\\Programs\\Python\\Python311\\Lib\\site-packages\\pydot.py:1933\u001B[0m, in \u001B[0;36mDot.create\u001B[1;34m(self, prog, format, encoding)\u001B[0m\n\u001B[0;32m   1930\u001B[0m     args \u001B[38;5;241m=\u001B[39m \u001B[38;5;28mlist\u001B[39m(e\u001B[38;5;241m.\u001B[39margs)\n\u001B[0;32m   1931\u001B[0m     args[\u001B[38;5;241m1\u001B[39m] \u001B[38;5;241m=\u001B[39m \u001B[38;5;124m'\u001B[39m\u001B[38;5;124m\"\u001B[39m\u001B[38;5;132;01m{prog}\u001B[39;00m\u001B[38;5;124m\"\u001B[39m\u001B[38;5;124m not found in path.\u001B[39m\u001B[38;5;124m'\u001B[39m\u001B[38;5;241m.\u001B[39mformat(\n\u001B[0;32m   1932\u001B[0m         prog\u001B[38;5;241m=\u001B[39mprog)\n\u001B[1;32m-> 1933\u001B[0m     \u001B[38;5;28;01mraise\u001B[39;00m \u001B[38;5;167;01mOSError\u001B[39;00m(\u001B[38;5;241m*\u001B[39margs)\n\u001B[0;32m   1934\u001B[0m \u001B[38;5;28;01melse\u001B[39;00m:\n\u001B[0;32m   1935\u001B[0m     \u001B[38;5;28;01mraise\u001B[39;00m\n",
      "\u001B[1;31mFileNotFoundError\u001B[0m: [WinError 2] \"dot\" not found in path."
     ]
    }
   ],
   "source": [
    "# Vẽ sơ đồ cây quyết định phân loại hoa lan.\n",
    "\n",
    "from six import StringIO\n",
    "import pydot\n",
    "dot_data = StringIO()\n",
    "tree.export_graphviz(irisClassifier, out_file=dot_data,\n",
    "                     feature_names=iris.feature_names,\n",
    "                     class_names=iris.target_names,\n",
    "                     filled=True, rounded=True,\n",
    "                     impurity=False)\n",
    "\n",
    "graph = pydot.graph_from_dot_data(dot_data.getvalue())\n",
    "graph[0].write_pdf(\"iris.pdf\")"
   ],
   "metadata": {
    "collapsed": false,
    "ExecuteTime": {
     "start_time": "2023-04-17T10:19:17.228402Z",
     "end_time": "2023-04-17T10:19:17.252608Z"
    }
   }
  }
 ],
 "metadata": {
  "kernelspec": {
   "display_name": "Python 3",
   "language": "python",
   "name": "python3"
  },
  "language_info": {
   "codemirror_mode": {
    "name": "ipython",
    "version": 2
   },
   "file_extension": ".py",
   "mimetype": "text/x-python",
   "name": "python",
   "nbconvert_exporter": "python",
   "pygments_lexer": "ipython2",
   "version": "2.7.6"
  }
 },
 "nbformat": 4,
 "nbformat_minor": 0
}
