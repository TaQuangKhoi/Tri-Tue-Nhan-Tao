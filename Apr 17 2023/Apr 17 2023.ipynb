{
 "cells": [
  {
   "cell_type": "code",
   "execution_count": 23,
   "outputs": [
    {
     "name": "stdout",
     "output_type": "stream",
     "text": [
      "Predict:  apple\n"
     ]
    }
   ],
   "source": [
    "from sklearn import tree\n",
    "# Đoán táo\n",
    "\n",
    "features = [\n",
    "    [150, 0],\n",
    "    [170, 0],\n",
    "    [140, 1],\n",
    "    [130, 1],\n",
    "]\n",
    "\n",
    "labels = [\n",
    "    0, 0, # orange\n",
    "    1, 1, # apple\n",
    "]\n",
    "\n",
    "fruit = [\"orange\", \"apple\"]\n",
    "\n",
    "clf = tree.DecisionTreeClassifier()\n",
    "clf = clf.fit(features, labels)\n",
    "predict = clf.predict([[130, 1]])\n",
    "print(\"Predict: \", fruit[predict[0]])"
   ],
   "metadata": {
    "collapsed": false,
    "ExecuteTime": {
     "start_time": "2023-04-17T09:29:27.527830Z",
     "end_time": "2023-04-17T09:29:27.545490Z"
    }
   }
  },
  {
   "cell_type": "code",
   "execution_count": 26,
   "outputs": [
    {
     "name": "stdout",
     "output_type": "stream",
     "text": [
      "Predict:  minivan\n"
     ]
    }
   ],
   "source": [
    "# Đoán xe\n",
    "featuresCar = [\n",
    "    [300, 2],\n",
    "    [450, 2],\n",
    "    [200, 8],\n",
    "    [150, 9]\n",
    "]\n",
    "\n",
    "labelsCar = [0, 0, 1, 1]\n",
    "\n",
    "car = [\"sport car\", \"minivan\"]\n",
    "\n",
    "clfCar = tree.DecisionTreeClassifier()\n",
    "clfCar = clfCar.fit(featuresCar, labelsCar)\n",
    "\n",
    "predictCar = clf.predict([[160, 8]])\n",
    "\n",
    "print(\"Predict: \", car[predictCar[0]])"
   ],
   "metadata": {
    "collapsed": false,
    "ExecuteTime": {
     "start_time": "2023-04-17T09:30:12.382680Z",
     "end_time": "2023-04-17T09:30:12.389157Z"
    }
   }
  }
 ],
 "metadata": {
  "kernelspec": {
   "display_name": "Python 3",
   "language": "python",
   "name": "python3"
  },
  "language_info": {
   "codemirror_mode": {
    "name": "ipython",
    "version": 2
   },
   "file_extension": ".py",
   "mimetype": "text/x-python",
   "name": "python",
   "nbconvert_exporter": "python",
   "pygments_lexer": "ipython2",
   "version": "2.7.6"
  }
 },
 "nbformat": 4,
 "nbformat_minor": 0
}
