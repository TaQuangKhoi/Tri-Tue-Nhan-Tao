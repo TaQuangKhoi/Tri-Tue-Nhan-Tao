{
 "cells": [
  {
   "cell_type": "code",
   "execution_count": 3,
   "metadata": {
    "collapsed": true,
    "ExecuteTime": {
     "end_time": "2023-05-08T01:05:31.525871400Z",
     "start_time": "2023-05-08T01:05:23.015713900Z"
    }
   },
   "outputs": [],
   "source": [
    "import pandas as pd\n",
    "import numpy as np\n",
    "import matplotlib.pyplot as plt\n",
    "from sklearn import datasets, linear_model"
   ]
  },
  {
   "cell_type": "code",
   "execution_count": 6,
   "outputs": [],
   "source": [
    "source_file = 'cricket-chirps.xlsx'\n",
    "data = pd.read_excel(source_file)"
   ],
   "metadata": {
    "collapsed": false,
    "ExecuteTime": {
     "end_time": "2023-05-08T01:10:47.458842600Z",
     "start_time": "2023-05-08T01:10:46.802053500Z"
    }
   }
  },
  {
   "cell_type": "code",
   "execution_count": 7,
   "outputs": [
    {
     "data": {
      "text/plain": "   Time  Chirps-15s  Chirps-13s  Temp-F  Temp-C\n0  2030        44.0      38.133    80.5  26.944\n1  2100        46.4      40.213    78.5  25.833\n2  2200        43.6      37.787    78.0  25.556\n3  1945        35.0      30.333    73.5  23.056\n4  2015        35.0      30.333    70.5  21.389",
      "text/html": "<div>\n<style scoped>\n    .dataframe tbody tr th:only-of-type {\n        vertical-align: middle;\n    }\n\n    .dataframe tbody tr th {\n        vertical-align: top;\n    }\n\n    .dataframe thead th {\n        text-align: right;\n    }\n</style>\n<table border=\"1\" class=\"dataframe\">\n  <thead>\n    <tr style=\"text-align: right;\">\n      <th></th>\n      <th>Time</th>\n      <th>Chirps-15s</th>\n      <th>Chirps-13s</th>\n      <th>Temp-F</th>\n      <th>Temp-C</th>\n    </tr>\n  </thead>\n  <tbody>\n    <tr>\n      <th>0</th>\n      <td>2030</td>\n      <td>44.0</td>\n      <td>38.133</td>\n      <td>80.5</td>\n      <td>26.944</td>\n    </tr>\n    <tr>\n      <th>1</th>\n      <td>2100</td>\n      <td>46.4</td>\n      <td>40.213</td>\n      <td>78.5</td>\n      <td>25.833</td>\n    </tr>\n    <tr>\n      <th>2</th>\n      <td>2200</td>\n      <td>43.6</td>\n      <td>37.787</td>\n      <td>78.0</td>\n      <td>25.556</td>\n    </tr>\n    <tr>\n      <th>3</th>\n      <td>1945</td>\n      <td>35.0</td>\n      <td>30.333</td>\n      <td>73.5</td>\n      <td>23.056</td>\n    </tr>\n    <tr>\n      <th>4</th>\n      <td>2015</td>\n      <td>35.0</td>\n      <td>30.333</td>\n      <td>70.5</td>\n      <td>21.389</td>\n    </tr>\n  </tbody>\n</table>\n</div>"
     },
     "execution_count": 7,
     "metadata": {},
     "output_type": "execute_result"
    }
   ],
   "source": [
    "# Show data demo\n",
    "data.head()"
   ],
   "metadata": {
    "collapsed": false,
    "ExecuteTime": {
     "end_time": "2023-05-08T01:11:33.350376Z",
     "start_time": "2023-05-08T01:11:33.314226900Z"
    }
   }
  },
  {
   "cell_type": "code",
   "execution_count": null,
   "outputs": [],
   "source": [],
   "metadata": {
    "collapsed": false
   }
  }
 ],
 "metadata": {
  "kernelspec": {
   "display_name": "Python 3",
   "language": "python",
   "name": "python3"
  },
  "language_info": {
   "codemirror_mode": {
    "name": "ipython",
    "version": 2
   },
   "file_extension": ".py",
   "mimetype": "text/x-python",
   "name": "python",
   "nbconvert_exporter": "python",
   "pygments_lexer": "ipython2",
   "version": "2.7.6"
  }
 },
 "nbformat": 4,
 "nbformat_minor": 0
}
