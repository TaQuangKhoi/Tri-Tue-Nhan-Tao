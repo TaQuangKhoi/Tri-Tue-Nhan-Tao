{
 "cells": [
  {
   "cell_type": "code",
   "execution_count": 3,
   "metadata": {
    "collapsed": true,
    "ExecuteTime": {
     "end_time": "2023-05-08T01:05:31.525871400Z",
     "start_time": "2023-05-08T01:05:23.015713900Z"
    }
   },
   "outputs": [],
   "source": [
    "import pandas as pd\n",
    "import numpy as np\n",
    "import matplotlib.pyplot as plt\n",
    "from sklearn import datasets, linear_model"
   ]
  },
  {
   "cell_type": "code",
   "execution_count": 6,
   "outputs": [],
   "source": [
    "source_file = 'cricket-chirps.xlsx'\n",
    "data = pd.read_excel(source_file)"
   ],
   "metadata": {
    "collapsed": false,
    "ExecuteTime": {
     "end_time": "2023-05-08T01:10:47.458842600Z",
     "start_time": "2023-05-08T01:10:46.802053500Z"
    }
   }
  },
  {
   "cell_type": "code",
   "execution_count": 7,
   "outputs": [
    {
     "data": {
      "text/plain": "   Time  Chirps-15s  Chirps-13s  Temp-F  Temp-C\n0  2030        44.0      38.133    80.5  26.944\n1  2100        46.4      40.213    78.5  25.833\n2  2200        43.6      37.787    78.0  25.556\n3  1945        35.0      30.333    73.5  23.056\n4  2015        35.0      30.333    70.5  21.389",
      "text/html": "<div>\n<style scoped>\n    .dataframe tbody tr th:only-of-type {\n        vertical-align: middle;\n    }\n\n    .dataframe tbody tr th {\n        vertical-align: top;\n    }\n\n    .dataframe thead th {\n        text-align: right;\n    }\n</style>\n<table border=\"1\" class=\"dataframe\">\n  <thead>\n    <tr style=\"text-align: right;\">\n      <th></th>\n      <th>Time</th>\n      <th>Chirps-15s</th>\n      <th>Chirps-13s</th>\n      <th>Temp-F</th>\n      <th>Temp-C</th>\n    </tr>\n  </thead>\n  <tbody>\n    <tr>\n      <th>0</th>\n      <td>2030</td>\n      <td>44.0</td>\n      <td>38.133</td>\n      <td>80.5</td>\n      <td>26.944</td>\n    </tr>\n    <tr>\n      <th>1</th>\n      <td>2100</td>\n      <td>46.4</td>\n      <td>40.213</td>\n      <td>78.5</td>\n      <td>25.833</td>\n    </tr>\n    <tr>\n      <th>2</th>\n      <td>2200</td>\n      <td>43.6</td>\n      <td>37.787</td>\n      <td>78.0</td>\n      <td>25.556</td>\n    </tr>\n    <tr>\n      <th>3</th>\n      <td>1945</td>\n      <td>35.0</td>\n      <td>30.333</td>\n      <td>73.5</td>\n      <td>23.056</td>\n    </tr>\n    <tr>\n      <th>4</th>\n      <td>2015</td>\n      <td>35.0</td>\n      <td>30.333</td>\n      <td>70.5</td>\n      <td>21.389</td>\n    </tr>\n  </tbody>\n</table>\n</div>"
     },
     "execution_count": 7,
     "metadata": {},
     "output_type": "execute_result"
    }
   ],
   "source": [
    "# Show data demo\n",
    "data.head()"
   ],
   "metadata": {
    "collapsed": false,
    "ExecuteTime": {
     "end_time": "2023-05-08T01:11:33.350376Z",
     "start_time": "2023-05-08T01:11:33.314226900Z"
    }
   }
  },
  {
   "cell_type": "code",
   "execution_count": 9,
   "outputs": [
    {
     "data": {
      "text/plain": "0     44.000\n1     46.400\n2     43.600\n3     35.000\n4     35.000\n5     32.600\n6     28.900\n7     27.700\n8     25.500\n9     20.375\n10    12.500\n11    37.000\n12    37.500\n13    36.500\n14    36.200\n15    33.000\n16    43.000\n17    46.000\n18    29.000\n19    31.700\n20    31.000\n21    28.750\n22    23.500\n23    32.400\n24    31.000\n25    29.500\n26    22.500\n27    20.600\n28    35.000\n29    33.100\n30    31.500\n31    28.800\n32    21.300\n33    37.800\n34    37.000\n35    37.100\n36    36.200\n37    31.400\n38    30.200\n39    31.300\n40    26.100\n41    25.200\n42    23.660\n43    22.250\n44    17.500\n45    15.500\n46    14.750\n47    15.000\n48    14.000\n49    18.500\n50    27.700\n51    26.000\n52    21.700\n53    12.500\n54    12.500\nName: Chirps-15s, dtype: float64"
     },
     "execution_count": 9,
     "metadata": {},
     "output_type": "execute_result"
    }
   ],
   "source": [
    "# Features - Chirp per 15s\n",
    "feature1 = data['Chirps-15s']\n",
    "feature1"
   ],
   "metadata": {
    "collapsed": false,
    "ExecuteTime": {
     "end_time": "2023-05-08T01:13:12.062788200Z",
     "start_time": "2023-05-08T01:13:12.028979100Z"
    }
   }
  },
  {
   "cell_type": "code",
   "execution_count": 10,
   "outputs": [
    {
     "data": {
      "text/plain": "array([[44.   ],\n       [46.4  ],\n       [43.6  ],\n       [35.   ],\n       [35.   ],\n       [32.6  ],\n       [28.9  ],\n       [27.7  ],\n       [25.5  ],\n       [20.375],\n       [12.5  ],\n       [37.   ],\n       [37.5  ],\n       [36.5  ],\n       [36.2  ],\n       [33.   ],\n       [43.   ],\n       [46.   ],\n       [29.   ],\n       [31.7  ],\n       [31.   ],\n       [28.75 ],\n       [23.5  ],\n       [32.4  ],\n       [31.   ],\n       [29.5  ],\n       [22.5  ],\n       [20.6  ],\n       [35.   ],\n       [33.1  ],\n       [31.5  ],\n       [28.8  ],\n       [21.3  ],\n       [37.8  ],\n       [37.   ],\n       [37.1  ],\n       [36.2  ],\n       [31.4  ],\n       [30.2  ],\n       [31.3  ],\n       [26.1  ],\n       [25.2  ],\n       [23.66 ],\n       [22.25 ],\n       [17.5  ],\n       [15.5  ],\n       [14.75 ],\n       [15.   ],\n       [14.   ],\n       [18.5  ],\n       [27.7  ],\n       [26.   ],\n       [21.7  ],\n       [12.5  ],\n       [12.5  ]])"
     },
     "execution_count": 10,
     "metadata": {},
     "output_type": "execute_result"
    }
   ],
   "source": [
    "# Convert pandas data into 2D numpy array\n",
    "feature = np.array([feature1.values]).T\n",
    "feature"
   ],
   "metadata": {
    "collapsed": false,
    "ExecuteTime": {
     "end_time": "2023-05-08T01:14:48.100976900Z",
     "start_time": "2023-05-08T01:14:48.057250100Z"
    }
   }
  },
  {
   "cell_type": "code",
   "execution_count": 11,
   "outputs": [
    {
     "data": {
      "text/plain": "0     26.9440\n1     25.8330\n2     25.5560\n3     23.0560\n4     21.3890\n5     20.0000\n6     18.8890\n7     18.3330\n8     16.3890\n9     13.8890\n10    12.7780\n11    24.5830\n12    23.3330\n13    23.3330\n14    22.5000\n15    18.8890\n16    25.2780\n17    25.8330\n18    20.2780\n19    20.2780\n20    20.0000\n21    18.8890\n22    15.0000\n23    21.1110\n24    20.5560\n25    19.4440\n26    16.2500\n27    14.7220\n28    22.2220\n29    21.6670\n30    20.5560\n31    19.1670\n32    15.5560\n33    23.8890\n34    22.9170\n35    22.5000\n36    21.1110\n37    19.7220\n38    18.8890\n39    20.5560\n40    17.2220\n41    17.2220\n42    16.1110\n43    16.6670\n44    13.6110\n45    12.7780\n46    11.1110\n47    11.6670\n48    10.0000\n49    11.1110\n50    18.3330\n51    17.2220\n52    15.0000\n53    10.4170\n54     9.5833\nName: Temp-C, dtype: float64"
     },
     "execution_count": 11,
     "metadata": {},
     "output_type": "execute_result"
    }
   ],
   "source": [
    "targets1 = data['Temp-C']\n",
    "targets1"
   ],
   "metadata": {
    "collapsed": false,
    "ExecuteTime": {
     "end_time": "2023-05-08T01:15:12.420234Z",
     "start_time": "2023-05-08T01:15:12.406151200Z"
    }
   }
  },
  {
   "cell_type": "code",
   "execution_count": 12,
   "outputs": [
    {
     "data": {
      "text/plain": "array([[26.944 ],\n       [25.833 ],\n       [25.556 ],\n       [23.056 ],\n       [21.389 ],\n       [20.    ],\n       [18.889 ],\n       [18.333 ],\n       [16.389 ],\n       [13.889 ],\n       [12.778 ],\n       [24.583 ],\n       [23.333 ],\n       [23.333 ],\n       [22.5   ],\n       [18.889 ],\n       [25.278 ],\n       [25.833 ],\n       [20.278 ],\n       [20.278 ],\n       [20.    ],\n       [18.889 ],\n       [15.    ],\n       [21.111 ],\n       [20.556 ],\n       [19.444 ],\n       [16.25  ],\n       [14.722 ],\n       [22.222 ],\n       [21.667 ],\n       [20.556 ],\n       [19.167 ],\n       [15.556 ],\n       [23.889 ],\n       [22.917 ],\n       [22.5   ],\n       [21.111 ],\n       [19.722 ],\n       [18.889 ],\n       [20.556 ],\n       [17.222 ],\n       [17.222 ],\n       [16.111 ],\n       [16.667 ],\n       [13.611 ],\n       [12.778 ],\n       [11.111 ],\n       [11.667 ],\n       [10.    ],\n       [11.111 ],\n       [18.333 ],\n       [17.222 ],\n       [15.    ],\n       [10.417 ],\n       [ 9.5833]])"
     },
     "execution_count": 12,
     "metadata": {},
     "output_type": "execute_result"
    }
   ],
   "source": [
    "# Convert pandas data into 2D numpy array\n",
    "targets = np.array([targets1.values]).T\n",
    "targets"
   ],
   "metadata": {
    "collapsed": false,
    "ExecuteTime": {
     "end_time": "2023-05-08T01:21:59.195506400Z",
     "start_time": "2023-05-08T01:21:59.134402400Z"
    }
   }
  },
  {
   "cell_type": "code",
   "execution_count": 13,
   "outputs": [
    {
     "data": {
      "text/plain": "<Figure size 640x480 with 1 Axes>",
      "image/png": "[encoded data removed]"
     },
     "metadata": {},
     "output_type": "display_data"
    }
   ],
   "source": [
    "# Visualize data - show features and targets relationships\n",
    "plt.plot(feature, targets, 'ro')\n",
    "plt.axis([\n",
    "    10, 50, 5, 30\n",
    "])\n",
    "\n",
    "plt.xlabel('Chirps per 15s (Times)')\n",
    "plt.ylabel('Temperature (C)')\n",
    "plt.show()"
   ],
   "metadata": {
    "collapsed": false,
    "ExecuteTime": {
     "end_time": "2023-05-08T01:23:31.440983800Z",
     "start_time": "2023-05-08T01:23:30.859576500Z"
    }
   }
  },
  {
   "cell_type": "code",
   "execution_count": 14,
   "outputs": [
    {
     "data": {
      "text/plain": "LinearRegression()",
      "text/html": "<style>#sk-container-id-1 {color: black;background-color: white;}#sk-container-id-1 pre{padding: 0;}#sk-container-id-1 div.sk-toggleable {background-color: white;}#sk-container-id-1 label.sk-toggleable__label {cursor: pointer;display: block;width: 100%;margin-bottom: 0;padding: 0.3em;box-sizing: border-box;text-align: center;}#sk-container-id-1 label.sk-toggleable__label-arrow:before {content: \"▸\";float: left;margin-right: 0.25em;color: #696969;}#sk-container-id-1 label.sk-toggleable__label-arrow:hover:before {color: black;}#sk-container-id-1 div.sk-estimator:hover label.sk-toggleable__label-arrow:before {color: black;}#sk-container-id-1 div.sk-toggleable__content {max-height: 0;max-width: 0;overflow: hidden;text-align: left;background-color: #f0f8ff;}#sk-container-id-1 div.sk-toggleable__content pre {margin: 0.2em;color: black;border-radius: 0.25em;background-color: #f0f8ff;}#sk-container-id-1 input.sk-toggleable__control:checked~div.sk-toggleable__content {max-height: 200px;max-width: 100%;overflow: auto;}#sk-container-id-1 input.sk-toggleable__control:checked~label.sk-toggleable__label-arrow:before {content: \"▾\";}#sk-container-id-1 div.sk-estimator input.sk-toggleable__control:checked~label.sk-toggleable__label {background-color: #d4ebff;}#sk-container-id-1 div.sk-label input.sk-toggleable__control:checked~label.sk-toggleable__label {background-color: #d4ebff;}#sk-container-id-1 input.sk-hidden--visually {border: 0;clip: rect(1px 1px 1px 1px);clip: rect(1px, 1px, 1px, 1px);height: 1px;margin: -1px;overflow: hidden;padding: 0;position: absolute;width: 1px;}#sk-container-id-1 div.sk-estimator {font-family: monospace;background-color: #f0f8ff;border: 1px dotted black;border-radius: 0.25em;box-sizing: border-box;margin-bottom: 0.5em;}#sk-container-id-1 div.sk-estimator:hover {background-color: #d4ebff;}#sk-container-id-1 div.sk-parallel-item::after {content: \"\";width: 100%;border-bottom: 1px solid gray;flex-grow: 1;}#sk-container-id-1 div.sk-label:hover label.sk-toggleable__label {background-color: #d4ebff;}#sk-container-id-1 div.sk-serial::before {content: \"\";position: absolute;border-left: 1px solid gray;box-sizing: border-box;top: 0;bottom: 0;left: 50%;z-index: 0;}#sk-container-id-1 div.sk-serial {display: flex;flex-direction: column;align-items: center;background-color: white;padding-right: 0.2em;padding-left: 0.2em;position: relative;}#sk-container-id-1 div.sk-item {position: relative;z-index: 1;}#sk-container-id-1 div.sk-parallel {display: flex;align-items: stretch;justify-content: center;background-color: white;position: relative;}#sk-container-id-1 div.sk-item::before, #sk-container-id-1 div.sk-parallel-item::before {content: \"\";position: absolute;border-left: 1px solid gray;box-sizing: border-box;top: 0;bottom: 0;left: 50%;z-index: -1;}#sk-container-id-1 div.sk-parallel-item {display: flex;flex-direction: column;z-index: 1;position: relative;background-color: white;}#sk-container-id-1 div.sk-parallel-item:first-child::after {align-self: flex-end;width: 50%;}#sk-container-id-1 div.sk-parallel-item:last-child::after {align-self: flex-start;width: 50%;}#sk-container-id-1 div.sk-parallel-item:only-child::after {width: 0;}#sk-container-id-1 div.sk-dashed-wrapped {border: 1px dashed gray;margin: 0 0.4em 0.5em 0.4em;box-sizing: border-box;padding-bottom: 0.4em;background-color: white;}#sk-container-id-1 div.sk-label label {font-family: monospace;font-weight: bold;display: inline-block;line-height: 1.2em;}#sk-container-id-1 div.sk-label-container {text-align: center;}#sk-container-id-1 div.sk-container {/* jupyter's `normalize.less` sets `[hidden] { display: none; }` but bootstrap.min.css set `[hidden] { display: none !important; }` so we also need the `!important` here to be able to override the default hidden behavior on the sphinx rendered scikit-learn.org. See: https://github.com/scikit-learn/scikit-learn/issues/21755 */display: inline-block !important;position: relative;}#sk-container-id-1 div.sk-text-repr-fallback {display: none;}</style><div id=\"sk-container-id-1\" class=\"sk-top-container\"><div class=\"sk-text-repr-fallback\"><pre>LinearRegression()</pre><b>In a Jupyter environment, please rerun this cell to show the HTML representation or trust the notebook. <br />On GitHub, the HTML representation is unable to render, please try loading this page with nbviewer.org.</b></div><div class=\"sk-container\" hidden><div class=\"sk-item\"><div class=\"sk-estimator sk-toggleable\"><input class=\"sk-toggleable__control sk-hidden--visually\" id=\"sk-estimator-id-1\" type=\"checkbox\" checked><label for=\"sk-estimator-id-1\" class=\"sk-toggleable__label sk-toggleable__label-arrow\">LinearRegression</label><div class=\"sk-toggleable__content\"><pre>LinearRegression()</pre></div></div></div></div></div>"
     },
     "execution_count": 14,
     "metadata": {},
     "output_type": "execute_result"
    }
   ],
   "source": [
    "# Fit the model by Linear Regression\n",
    "classifier = linear_model.LinearRegression()\n",
    "classifier.fit(feature, targets)"
   ],
   "metadata": {
    "collapsed": false,
    "ExecuteTime": {
     "end_time": "2023-05-08T01:25:36.550410600Z",
     "start_time": "2023-05-08T01:25:36.482411400Z"
    }
   }
  },
  {
   "cell_type": "code",
   "execution_count": 15,
   "outputs": [
    {
     "name": "stdout",
     "output_type": "stream",
     "text": [
      "w =  [0.49543812]\n",
      "b =  [4.45863852]\n"
     ]
    }
   ],
   "source": [
    "# y = w0 + w1 * x1\n",
    "# target = coef_ * feature + intercept_\n",
    "w = classifier.coef_[0]\n",
    "b = classifier.intercept_\n",
    "print('w = ', w)\n",
    "print('b = ', b)"
   ],
   "metadata": {
    "collapsed": false,
    "ExecuteTime": {
     "end_time": "2023-05-08T01:26:37.867853300Z",
     "start_time": "2023-05-08T01:26:37.807236700Z"
    }
   }
  },
  {
   "cell_type": "code",
   "execution_count": 29,
   "outputs": [],
   "source": [
    "# Fitting line\n",
    "x0 = np.linspace(10, 50, 2, endpoint=True)\n",
    "y0 = (w * x0) + b"
   ],
   "metadata": {
    "collapsed": false,
    "ExecuteTime": {
     "end_time": "2023-05-08T02:49:49.758735900Z",
     "start_time": "2023-05-08T02:49:49.738102600Z"
    }
   }
  },
  {
   "cell_type": "code",
   "execution_count": 28,
   "outputs": [
    {
     "data": {
      "text/plain": "<Figure size 640x480 with 1 Axes>",
      "image/png": "[encoded data removed]"
     },
     "metadata": {},
     "output_type": "display_data"
    }
   ],
   "source": [
    "# Visualize data - show features and targets relationships\n",
    "plt.plot(feature, targets, 'ro')\n",
    "plt.plot(x0, y0)\n",
    "plt.axis([\n",
    "    10, 50, 5, 30\n",
    "])\n",
    "plt.xlabel('Chirps-15s')\n",
    "plt.ylabel('Temp-C')\n",
    "plt.show()"
   ],
   "metadata": {
    "collapsed": false,
    "ExecuteTime": {
     "end_time": "2023-05-08T02:49:33.350265Z",
     "start_time": "2023-05-08T02:49:32.492607200Z"
    }
   }
  },
  {
   "cell_type": "code",
   "execution_count": 18,
   "outputs": [
    {
     "name": "stdout",
     "output_type": "stream",
     "text": [
      "With 10 chirps per 15s, the temperature will be [[9.41301971]] C\n"
     ]
    }
   ],
   "source": [
    "# Predict 10\n",
    "print(\"With 10 chirps per 15s, the temperature will be\", classifier.predict([[10]]), \"C\")"
   ],
   "metadata": {
    "collapsed": false,
    "ExecuteTime": {
     "end_time": "2023-05-08T01:28:33.193372700Z",
     "start_time": "2023-05-08T01:28:33.129925100Z"
    }
   }
  },
  {
   "cell_type": "code",
   "execution_count": 19,
   "outputs": [
    {
     "name": "stdout",
     "output_type": "stream",
     "text": [
      "With 30 chirps per 15s, the temperature will be [[19.32178211]] C\n"
     ]
    }
   ],
   "source": [
    "# Predict 30\n",
    "print(\"With 30 chirps per 15s, the temperature will be\", classifier.predict([[30]]), \"C\")"
   ],
   "metadata": {
    "collapsed": false,
    "ExecuteTime": {
     "end_time": "2023-05-08T01:28:52.747312700Z",
     "start_time": "2023-05-08T01:28:52.715392800Z"
    }
   }
  },
  {
   "cell_type": "code",
   "execution_count": 20,
   "outputs": [
    {
     "name": "stdout",
     "output_type": "stream",
     "text": [
      "With 50 chirps per 15s, the temperature will be [[29.23054451]] C\n"
     ]
    }
   ],
   "source": [
    "# Predict 50\n",
    "print(\"With 50 chirps per 15s, the temperature will be\", classifier.predict([[50]]), \"C\")"
   ],
   "metadata": {
    "collapsed": false,
    "ExecuteTime": {
     "end_time": "2023-05-08T01:29:02.800450300Z",
     "start_time": "2023-05-08T01:29:02.775488Z"
    }
   }
  },
  {
   "cell_type": "code",
   "execution_count": 21,
   "outputs": [
    {
     "name": "stdout",
     "output_type": "stream",
     "text": [
      "With 60 chirps per 15s, the temperature will be [[34.1849257]] C\n"
     ]
    }
   ],
   "source": [
    "# Predict 60\n",
    "print(\"With 60 chirps per 15s, the temperature will be\", classifier.predict([[60]]), \"C\").values.reshape(-1,1)"
   ],
   "metadata": {
    "collapsed": false,
    "ExecuteTime": {
     "end_time": "2023-05-08T01:29:18.891787500Z",
     "start_time": "2023-05-08T01:29:18.828625300Z"
    }
   }
  }
 ],
 "metadata": {
  "kernelspec": {
   "display_name": "Python 3",
   "language": "python",
   "name": "python3"
  },
  "language_info": {
   "codemirror_mode": {
    "name": "ipython",
    "version": 2
   },
   "file_extension": ".py",
   "mimetype": "text/x-python",
   "name": "python",
   "nbconvert_exporter": "python",
   "pygments_lexer": "ipython2",
   "version": "2.7.6"
  }
 },
 "nbformat": 4,
 "nbformat_minor": 0
}
